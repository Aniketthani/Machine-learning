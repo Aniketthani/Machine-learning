{
 "cells": [
  {
   "cell_type": "markdown",
   "id": "historical-cathedral",
   "metadata": {},
   "source": [
    "# Regularized Linear Regression"
   ]
  },
  {
   "cell_type": "markdown",
   "id": "bored-sight",
   "metadata": {},
   "source": [
    "In the first half of the exercise, we will implement regularized linear regres-\n",
    "sion to predict the amount of water flowing out of a dam using the change\n",
    "of water level in a reservoir. In the next half, you will go through some diag-\n",
    "nostics of debugging learning algorithms and examine the effects of bias v.s.\n",
    "variance."
   ]
  },
  {
   "cell_type": "code",
   "execution_count": 1,
   "id": "apart-works",
   "metadata": {},
   "outputs": [],
   "source": [
    "import numpy as np\n",
    "from scipy.io import loadmat\n",
    "import matplotlib.pyplot as plt\n",
    "from scipy.optimize import fmin_cg"
   ]
  },
  {
   "cell_type": "code",
   "execution_count": 2,
   "id": "defined-linux",
   "metadata": {},
   "outputs": [],
   "source": [
    "data=loadmat(\"data/ex5data1.mat\")"
   ]
  },
  {
   "cell_type": "code",
   "execution_count": 3,
   "id": "suffering-choir",
   "metadata": {},
   "outputs": [
    {
     "data": {
      "text/plain": [
       "{'__header__': b'MATLAB 5.0 MAT-file, Platform: GLNXA64, Created on: Fri Nov  4 22:27:26 2011',\n",
       " '__version__': '1.0',\n",
       " '__globals__': [],\n",
       " 'X': array([[-15.93675813],\n",
       "        [-29.15297922],\n",
       "        [ 36.18954863],\n",
       "        [ 37.49218733],\n",
       "        [-48.05882945],\n",
       "        [ -8.94145794],\n",
       "        [ 15.30779289],\n",
       "        [-34.70626581],\n",
       "        [  1.38915437],\n",
       "        [-44.38375985],\n",
       "        [  7.01350208],\n",
       "        [ 22.76274892]]),\n",
       " 'y': array([[ 2.13431051],\n",
       "        [ 1.17325668],\n",
       "        [34.35910918],\n",
       "        [36.83795516],\n",
       "        [ 2.80896507],\n",
       "        [ 2.12107248],\n",
       "        [14.71026831],\n",
       "        [ 2.61418439],\n",
       "        [ 3.74017167],\n",
       "        [ 3.73169131],\n",
       "        [ 7.62765885],\n",
       "        [22.7524283 ]]),\n",
       " 'Xtest': array([[-33.31800399],\n",
       "        [-37.91216403],\n",
       "        [-51.20693795],\n",
       "        [ -6.13259585],\n",
       "        [ 21.26118327],\n",
       "        [-40.31952949],\n",
       "        [-14.54153167],\n",
       "        [ 32.55976024],\n",
       "        [ 13.39343255],\n",
       "        [ 44.20988595],\n",
       "        [ -1.14267768],\n",
       "        [-12.76686065],\n",
       "        [ 34.05450539],\n",
       "        [ 39.22350028],\n",
       "        [  1.97449674],\n",
       "        [ 29.6217551 ],\n",
       "        [-23.66962971],\n",
       "        [ -9.01180139],\n",
       "        [-55.94057091],\n",
       "        [-35.70859752],\n",
       "        [  9.51020533]]),\n",
       " 'ytest': array([[ 3.31688953],\n",
       "        [ 5.39768952],\n",
       "        [ 0.13042984],\n",
       "        [ 6.1925982 ],\n",
       "        [17.08848712],\n",
       "        [ 0.79950805],\n",
       "        [ 2.82479183],\n",
       "        [28.62123334],\n",
       "        [17.04639081],\n",
       "        [55.38437334],\n",
       "        [ 4.07936733],\n",
       "        [ 8.27039793],\n",
       "        [31.32355102],\n",
       "        [39.15906103],\n",
       "        [ 8.08727989],\n",
       "        [24.11134389],\n",
       "        [ 2.4773548 ],\n",
       "        [ 6.56606472],\n",
       "        [ 6.0380888 ],\n",
       "        [ 4.69273956],\n",
       "        [10.83004606]]),\n",
       " 'Xval': array([[-16.74653578],\n",
       "        [-14.57747075],\n",
       "        [ 34.51575866],\n",
       "        [-47.01007574],\n",
       "        [ 36.97511905],\n",
       "        [-40.68611002],\n",
       "        [ -4.47201098],\n",
       "        [ 26.53363489],\n",
       "        [-42.7976831 ],\n",
       "        [ 25.37409938],\n",
       "        [-31.10955398],\n",
       "        [ 27.31176864],\n",
       "        [ -3.26386201],\n",
       "        [ -1.81827649],\n",
       "        [-40.7196624 ],\n",
       "        [-50.01324365],\n",
       "        [-17.41177155],\n",
       "        [  3.5881937 ],\n",
       "        [  7.08548026],\n",
       "        [ 46.28236902],\n",
       "        [ 14.61228909]]),\n",
       " 'yval': array([[ 4.17020201e+00],\n",
       "        [ 4.06726280e+00],\n",
       "        [ 3.18730676e+01],\n",
       "        [ 1.06236562e+01],\n",
       "        [ 3.18360213e+01],\n",
       "        [ 4.95936972e+00],\n",
       "        [ 4.45159880e+00],\n",
       "        [ 2.22763185e+01],\n",
       "        [-4.38738274e-05],\n",
       "        [ 2.05038016e+01],\n",
       "        [ 3.85834476e+00],\n",
       "        [ 1.93650529e+01],\n",
       "        [ 4.88376281e+00],\n",
       "        [ 1.10971588e+01],\n",
       "        [ 7.46170827e+00],\n",
       "        [ 1.47693464e+00],\n",
       "        [ 2.71916388e+00],\n",
       "        [ 1.09269007e+01],\n",
       "        [ 8.34871235e+00],\n",
       "        [ 5.27819280e+01],\n",
       "        [ 1.33573396e+01]])}"
      ]
     },
     "execution_count": 3,
     "metadata": {},
     "output_type": "execute_result"
    }
   ],
   "source": [
    "data"
   ]
  },
  {
   "cell_type": "code",
   "execution_count": 4,
   "id": "small-cinema",
   "metadata": {},
   "outputs": [],
   "source": [
    "X_train=data['X']\n",
    "Y_train=data['y']\n",
    "X_val=data['Xval']\n",
    "Y_val=data['yval']\n",
    "X_test=data['Xtest']\n",
    "Y_test=data['ytest']"
   ]
  },
  {
   "cell_type": "markdown",
   "id": "loaded-collapse",
   "metadata": {},
   "source": [
    "# Visualize The Data"
   ]
  },
  {
   "cell_type": "code",
   "execution_count": 5,
   "id": "hearing-present",
   "metadata": {},
   "outputs": [
    {
     "data": {
      "image/png": "[encoded data removed]",
      "text/plain": [
       "<Figure size 432x288 with 1 Axes>"
      ]
     },
     "metadata": {
      "needs_background": "light"
     },
     "output_type": "display_data"
    }
   ],
   "source": [
    "plt.plot(X_train,Y_train,\"rx\")\n",
    "plt.xlabel(\"change in water level(x)\")\n",
    "plt.ylabel(\"water flowing out of the dam(y)\");"
   ]
  },
  {
   "cell_type": "markdown",
   "id": "olympic-diesel",
   "metadata": {},
   "source": [
    "# Feature normalization"
   ]
  },
  {
   "cell_type": "code",
   "execution_count": 6,
   "id": "hollywood-relationship",
   "metadata": {},
   "outputs": [],
   "source": [
    "def featurenorm(X):\n",
    "    mu=np.mean(X,axis=0)\n",
    "    std=np.std(X,axis=0)\n",
    "    X=(X-mu)/std\n",
    "    return X,mu,std"
   ]
  },
  {
   "cell_type": "code",
   "execution_count": 7,
   "id": "composite-playing",
   "metadata": {},
   "outputs": [],
   "source": [
    "X_train,mu_x,std_x=featurenorm(data['X'])"
   ]
  },
  {
   "cell_type": "code",
   "execution_count": 8,
   "id": "legitimate-guest",
   "metadata": {},
   "outputs": [
    {
     "data": {
      "text/plain": [
       "(12, 1)"
      ]
     },
     "execution_count": 8,
     "metadata": {},
     "output_type": "execute_result"
    }
   ],
   "source": [
    "X_train.shape"
   ]
  },
  {
   "cell_type": "code",
   "execution_count": 9,
   "id": "occupied-dance",
   "metadata": {},
   "outputs": [
    {
     "data": {
      "text/plain": [
       "array([[-0.3782437 ],\n",
       "       [-0.8389201 ],\n",
       "       [ 1.43871736],\n",
       "       [ 1.4841233 ],\n",
       "       [-1.49791929],\n",
       "       [-0.13440928],\n",
       "       [ 0.71084425],\n",
       "       [-1.03249041],\n",
       "       [ 0.22568376],\n",
       "       [-1.36981778],\n",
       "       [ 0.42173105],\n",
       "       [ 0.97070085]])"
      ]
     },
     "execution_count": 9,
     "metadata": {},
     "output_type": "execute_result"
    }
   ],
   "source": [
    "X_train"
   ]
  },
  {
   "cell_type": "code",
   "execution_count": 10,
   "id": "corrected-recorder",
   "metadata": {},
   "outputs": [],
   "source": [
    "Y_train,mu_y,std_y=featurenorm(data['y'])"
   ]
  },
  {
   "cell_type": "code",
   "execution_count": 11,
   "id": "literary-working",
   "metadata": {},
   "outputs": [
    {
     "data": {
      "text/plain": [
       "array([[-0.72707207],\n",
       "       [-0.80399973],\n",
       "       [ 1.85236554],\n",
       "       [ 2.05078504],\n",
       "       [-0.67306927],\n",
       "       [-0.72813171],\n",
       "       [ 0.27957188],\n",
       "       [-0.68866051],\n",
       "       [-0.59853073],\n",
       "       [-0.59920954],\n",
       "       [-0.28735639],\n",
       "       [ 0.92330747]])"
      ]
     },
     "execution_count": 11,
     "metadata": {},
     "output_type": "execute_result"
    }
   ],
   "source": [
    "Y_train"
   ]
  },
  {
   "cell_type": "markdown",
   "id": "modified-lloyd",
   "metadata": {},
   "source": [
    "# Regularized Cost Function"
   ]
  },
  {
   "cell_type": "code",
   "execution_count": 12,
   "id": "british-powder",
   "metadata": {},
   "outputs": [],
   "source": [
    "def computecost(theta,X,Y,lamb):\n",
    "    theta=theta.reshape((len(theta),1))\n",
    "    m=len(X)\n",
    "    J=(0.5/m)*(np.sum((np.dot(X,theta)-Y)**2)) + (0.5*lamb/m)*(np.sum(theta**2)-theta[0]**2)\n",
    "    return J\n"
   ]
  },
  {
   "cell_type": "code",
   "execution_count": 13,
   "id": "delayed-baseball",
   "metadata": {},
   "outputs": [],
   "source": [
    "X_train=np.hstack((np.ones((len(X_train),1)),X_train))"
   ]
  },
  {
   "cell_type": "code",
   "execution_count": 14,
   "id": "mysterious-romantic",
   "metadata": {},
   "outputs": [
    {
     "data": {
      "text/plain": [
       "(12, 2)"
      ]
     },
     "execution_count": 14,
     "metadata": {},
     "output_type": "execute_result"
    }
   ],
   "source": [
    "X_train.shape"
   ]
  },
  {
   "cell_type": "code",
   "execution_count": 15,
   "id": "anticipated-montana",
   "metadata": {},
   "outputs": [
    {
     "data": {
      "text/plain": [
       "array([0.69710114])"
      ]
     },
     "execution_count": 15,
     "metadata": {},
     "output_type": "execute_result"
    }
   ],
   "source": [
    "computecost(np.array([1,1]),X_train,Y_train,1)"
   ]
  },
  {
   "cell_type": "markdown",
   "id": "biblical-saturn",
   "metadata": {},
   "source": [
    "# Regularized linear regression gradient"
   ]
  },
  {
   "cell_type": "code",
   "execution_count": 16,
   "id": "leading-transfer",
   "metadata": {},
   "outputs": [],
   "source": [
    "def gradient(theta,X,Y,lamb):\n",
    "    m=len(X)\n",
    "    theta=theta.reshape((len(theta),1))\n",
    "    grad=np.dot(X.T,(np.dot(X,theta)-Y)) + (lamb/m)*theta\n",
    "    grad[0]=grad[0]-(lamb/m)*theta[0]\n",
    "    return np.ndarray.flatten(grad)"
   ]
  },
  {
   "cell_type": "code",
   "execution_count": 17,
   "id": "sealed-month",
   "metadata": {},
   "outputs": [],
   "source": [
    "init_gradients=gradient(np.array([1,1]),X_train,Y_train,1)"
   ]
  },
  {
   "cell_type": "code",
   "execution_count": 18,
   "id": "smooth-exercise",
   "metadata": {},
   "outputs": [
    {
     "data": {
      "text/plain": [
       "array([12.        ,  1.94854706])"
      ]
     },
     "execution_count": 18,
     "metadata": {},
     "output_type": "execute_result"
    }
   ],
   "source": [
    "init_gradients"
   ]
  },
  {
   "cell_type": "markdown",
   "id": "interim-vegetation",
   "metadata": {},
   "source": [
    "# Fitting Model"
   ]
  },
  {
   "cell_type": "code",
   "execution_count": 19,
   "id": "changed-plain",
   "metadata": {},
   "outputs": [
    {
     "name": "stdout",
     "output_type": "stream",
     "text": [
      "Optimization terminated successfully.\n",
      "         Current function value: 0.143355\n",
      "         Iterations: 6\n",
      "         Function evaluations: 26\n",
      "         Gradient evaluations: 26\n"
     ]
    }
   ],
   "source": [
    "Theta=fmin_cg(computecost,np.array([1,1]),gradient,args=(X_train,Y_train,0))"
   ]
  },
  {
   "cell_type": "markdown",
   "id": "professional-manor",
   "metadata": {},
   "source": [
    "# Visualizing Results"
   ]
  },
  {
   "cell_type": "code",
   "execution_count": 20,
   "id": "fallen-tactics",
   "metadata": {},
   "outputs": [],
   "source": [
    "x=np.linspace(-60,60,1500)\n",
    "x_norm=(x-mu_x)/std_x\n",
    "\n",
    "x_norm=np.hstack((np.ones((len(x_norm),1)),x_norm.reshape((1500,1))))"
   ]
  },
  {
   "cell_type": "code",
   "execution_count": 21,
   "id": "productive-gossip",
   "metadata": {},
   "outputs": [],
   "source": [
    "y=np.dot(x_norm,Theta)"
   ]
  },
  {
   "cell_type": "code",
   "execution_count": 22,
   "id": "biblical-private",
   "metadata": {},
   "outputs": [],
   "source": [
    "y=(y*std_y)+mu_y"
   ]
  },
  {
   "cell_type": "code",
   "execution_count": 23,
   "id": "computational-execution",
   "metadata": {},
   "outputs": [
    {
     "data": {
      "text/plain": [
       "array([-8.97885025, -8.94940828, -8.91996632, ..., 35.09577341,\n",
       "       35.12521537, 35.15465734])"
      ]
     },
     "execution_count": 23,
     "metadata": {},
     "output_type": "execute_result"
    }
   ],
   "source": [
    "y"
   ]
  },
  {
   "cell_type": "code",
   "execution_count": 24,
   "id": "sorted-amplifier",
   "metadata": {},
   "outputs": [
    {
     "data": {
      "text/plain": [
       "[<matplotlib.lines.Line2D at 0x7fb70b803190>]"
      ]
     },
     "execution_count": 24,
     "metadata": {},
     "output_type": "execute_result"
    },
    {
     "data": {
      "image/png": "[encoded data removed]",
      "text/plain": [
       "<Figure size 432x288 with 1 Axes>"
      ]
     },
     "metadata": {
      "needs_background": "light"
     },
     "output_type": "display_data"
    }
   ],
   "source": [
    "plt.plot(data['X'],data['y'],'rx')\n",
    "plt.plot(x,y)"
   ]
  },
  {
   "cell_type": "markdown",
   "id": "fresh-printing",
   "metadata": {},
   "source": [
    "# Learning curves"
   ]
  },
  {
   "cell_type": "code",
   "execution_count": 25,
   "id": "mature-liverpool",
   "metadata": {},
   "outputs": [],
   "source": [
    "def plot_learning_curves(X_train,Y_train,X_val,Y_val):\n",
    "    cost_train=[]\n",
    "    cost_val=[]\n",
    "    \n",
    "    \n",
    "    for i in range(1,len(X_train)+1):\n",
    "        x=X_train[0:i]\n",
    "        \n",
    "        y=Y_train[0:i]\n",
    "        \n",
    "        \n",
    "        x=np.hstack((np.ones((len(x),1)),x))\n",
    "        Theta=fmin_cg(computecost,np.array([1,1]),gradient,args=(x,y,0))\n",
    "        cost_train.append(computecost(Theta,x,y,0))\n",
    "        \n",
    "        x_val=X_val\n",
    "        x_val=np.hstack((np.ones((len(x_val),1)),x_val))\n",
    "        y_val=Y_val\n",
    "        \n",
    "        cost_val.append(computecost(Theta,x_val,y_val,0))\n",
    "    \n",
    "    plt.plot([i for i in range(1,len(X_train)+1)],cost_train)\n",
    "    plt.plot([i for i in range(1,len(X_train)+1)],cost_val)\n",
    "       \n",
    "        \n",
    "        "
   ]
  },
  {
   "cell_type": "code",
   "execution_count": 26,
   "id": "naval-dubai",
   "metadata": {},
   "outputs": [
    {
     "name": "stdout",
     "output_type": "stream",
     "text": [
      "Optimization terminated successfully.\n",
      "         Current function value: 0.000000\n",
      "         Iterations: 2\n",
      "         Function evaluations: 4\n",
      "         Gradient evaluations: 4\n",
      "Optimization terminated successfully.\n",
      "         Current function value: 0.000000\n",
      "         Iterations: 27\n",
      "         Function evaluations: 105\n",
      "         Gradient evaluations: 98\n",
      "Optimization terminated successfully.\n",
      "         Current function value: 3.286595\n",
      "         Iterations: 31\n",
      "         Function evaluations: 123\n",
      "         Gradient evaluations: 121\n",
      "Optimization terminated successfully.\n",
      "         Current function value: 2.842678\n",
      "         Iterations: 34\n",
      "         Function evaluations: 164\n",
      "         Gradient evaluations: 151\n",
      "Optimization terminated successfully.\n",
      "         Current function value: 13.154049\n",
      "         Iterations: 59\n",
      "         Function evaluations: 208\n",
      "         Gradient evaluations: 204\n",
      "Warning: Desired error not necessarily achieved due to precision loss.\n",
      "         Current function value: 19.443963\n",
      "         Iterations: 43\n",
      "         Function evaluations: 195\n",
      "         Gradient evaluations: 183\n",
      "Optimization terminated successfully.\n",
      "         Current function value: 20.098522\n",
      "         Iterations: 31\n",
      "         Function evaluations: 113\n",
      "         Gradient evaluations: 110\n",
      "Optimization terminated successfully.\n",
      "         Current function value: 18.172859\n",
      "         Iterations: 40\n",
      "         Function evaluations: 172\n",
      "         Gradient evaluations: 168\n",
      "Warning: Desired error not necessarily achieved due to precision loss.\n",
      "         Current function value: 22.609405\n",
      "         Iterations: 30\n",
      "         Function evaluations: 140\n",
      "         Gradient evaluations: 128\n",
      "Optimization terminated successfully.\n",
      "         Current function value: 23.261462\n",
      "         Iterations: 46\n",
      "         Function evaluations: 176\n",
      "         Gradient evaluations: 175\n",
      "Warning: Desired error not necessarily achieved due to precision loss.\n",
      "         Current function value: 24.317250\n",
      "         Iterations: 42\n",
      "         Function evaluations: 180\n",
      "         Gradient evaluations: 166\n",
      "Optimization terminated successfully.\n",
      "         Current function value: 22.373906\n",
      "         Iterations: 40\n",
      "         Function evaluations: 163\n",
      "         Gradient evaluations: 162\n"
     ]
    },
    {
     "data": {
      "image/png": "[encoded data removed]",
      "text/plain": [
       "<Figure size 432x288 with 1 Axes>"
      ]
     },
     "metadata": {
      "needs_background": "light"
     },
     "output_type": "display_data"
    }
   ],
   "source": [
    "plot_learning_curves(data['X'],data['y'],data['Xval'],data['yval'])"
   ]
  },
  {
   "cell_type": "markdown",
   "id": "figured-customer",
   "metadata": {},
   "source": [
    "In Figure , you can observe that both the train error and cross validation\n",
    "error are high when the number of training examples is increased. This\n",
    "reflects a high bias problem in the model – the linear regression model istoo simple and is unable to fit our dataset well. In the next section, you will\n",
    "implement polynomial regression to fit a better model for this dataset."
   ]
  },
  {
   "cell_type": "markdown",
   "id": "green-brooks",
   "metadata": {},
   "source": [
    "# Polynomial regression"
   ]
  },
  {
   "cell_type": "markdown",
   "id": "dental-sixth",
   "metadata": {},
   "source": [
    "The problem with our linear model was that it was too simple for the data\n",
    "and resulted in underfitting (high bias). In this part of the exercise, you will\n",
    "address this problem by adding more features"
   ]
  },
  {
   "cell_type": "markdown",
   "id": "limiting-wells",
   "metadata": {},
   "source": [
    "Notice that by defining x 1 = (waterLevel), x 2 = (waterLevel) 2 , . . . , x p =\n",
    "(waterLevel) p , we obtain a linear regression model where the features are the\n",
    "various powers of the original value (waterLevel).\n",
    "Now, you will add more features using the higher powers of the existing\n",
    "feature x in the dataset."
   ]
  },
  {
   "cell_type": "code",
   "execution_count": 27,
   "id": "intensive-merchandise",
   "metadata": {},
   "outputs": [],
   "source": [
    "def poly_features(X,p):\n",
    "    tmp=X**(0)\n",
    "    for i in range(1,p+1):\n",
    "        tmp=np.hstack((tmp,X**(i)))\n",
    "        \n",
    "    return tmp\n",
    "        "
   ]
  },
  {
   "cell_type": "code",
   "execution_count": 28,
   "id": "hispanic-arnold",
   "metadata": {},
   "outputs": [],
   "source": [
    "X_poly_train=poly_features(data['X'],8)"
   ]
  },
  {
   "cell_type": "code",
   "execution_count": 29,
   "id": "innovative-brisbane",
   "metadata": {},
   "outputs": [
    {
     "data": {
      "text/plain": [
       "(12, 9)"
      ]
     },
     "execution_count": 29,
     "metadata": {},
     "output_type": "execute_result"
    }
   ],
   "source": [
    "X_poly_train.shape"
   ]
  },
  {
   "cell_type": "code",
   "execution_count": 30,
   "id": "centered-pathology",
   "metadata": {},
   "outputs": [
    {
     "data": {
      "text/plain": [
       "array([[ 1.00000000e+00, -1.59367581e+01,  2.53980260e+02,\n",
       "        -4.04762197e+03,  6.45059724e+04, -1.02801608e+06,\n",
       "         1.63832436e+07, -2.61095791e+08,  4.16102047e+09],\n",
       "       [ 1.00000000e+00, -2.91529792e+01,  8.49896197e+02,\n",
       "        -2.47770062e+04,  7.22323546e+05, -2.10578833e+07,\n",
       "         6.13900035e+08, -1.78970150e+10,  5.21751305e+11],\n",
       "       [ 1.00000000e+00,  3.61895486e+01,  1.30968343e+03,\n",
       "         4.73968522e+04,  1.71527069e+06,  6.20748719e+07,\n",
       "         2.24646160e+09,  8.12984311e+10,  2.94215353e+12],\n",
       "       [ 1.00000000e+00,  3.74921873e+01,  1.40566411e+03,\n",
       "         5.27014222e+04,  1.97589159e+06,  7.40804977e+07,\n",
       "         2.77743990e+09,  1.04132297e+11,  3.90414759e+12],\n",
       "       [ 1.00000000e+00, -4.80588295e+01,  2.30965109e+03,\n",
       "        -1.10999128e+05,  5.33448815e+06, -2.56369256e+08,\n",
       "         1.23208064e+10, -5.92123532e+11,  2.84567638e+13],\n",
       "       [ 1.00000000e+00, -8.94145794e+00,  7.99496701e+01,\n",
       "        -7.14866612e+02,  6.39194974e+03, -5.71533498e+04,\n",
       "         5.11034273e+05, -4.56939146e+06,  4.08570215e+07],\n",
       "       [ 1.00000000e+00,  1.53077929e+01,  2.34328523e+02,\n",
       "         3.58705250e+03,  5.49098568e+04,  8.40548715e+05,\n",
       "         1.28669456e+07,  1.96964539e+08,  3.01509237e+09],\n",
       "       [ 1.00000000e+00, -3.47062658e+01,  1.20452489e+03,\n",
       "        -4.18045609e+04,  1.45088020e+06, -5.03546340e+07,\n",
       "         1.74762131e+09, -6.06534098e+10,  2.10505336e+12],\n",
       "       [ 1.00000000e+00,  1.38915437e+00,  1.92974986e+00,\n",
       "         2.68072045e+00,  3.72393452e+00,  5.17311991e+00,\n",
       "         7.18626212e+00,  9.98282742e+00,  1.38676883e+01],\n",
       "       [ 1.00000000e+00, -4.43837599e+01,  1.96991814e+03,\n",
       "        -8.74323736e+04,  3.88057747e+06, -1.72234619e+08,\n",
       "         7.64441995e+09, -3.39288099e+11,  1.50588815e+13],\n",
       "       [ 1.00000000e+00,  7.01350208e+00,  4.91892115e+01,\n",
       "         3.44988637e+02,  2.41957852e+03,  1.69697190e+04,\n",
       "         1.19017160e+05,  8.34727097e+05,  5.85436023e+06],\n",
       "       [ 1.00000000e+00,  2.27627489e+01,  5.18142738e+02,\n",
       "         1.17943531e+04,  2.68471897e+05,  6.11115839e+06,\n",
       "         1.39106764e+08,  3.16645234e+09,  7.20771597e+10]])"
      ]
     },
     "execution_count": 30,
     "metadata": {},
     "output_type": "execute_result"
    }
   ],
   "source": [
    "X_poly_train"
   ]
  },
  {
   "cell_type": "markdown",
   "id": "italian-advocate",
   "metadata": {},
   "source": [
    "# Feature Normalization"
   ]
  },
  {
   "cell_type": "code",
   "execution_count": 31,
   "id": "dutch-chaos",
   "metadata": {},
   "outputs": [],
   "source": [
    "mu=np.mean(X_poly_train[:,1:],axis=0).reshape((1,X_poly_train.shape[1]-1))"
   ]
  },
  {
   "cell_type": "code",
   "execution_count": 32,
   "id": "welsh-yorkshire",
   "metadata": {},
   "outputs": [
    {
     "data": {
      "text/plain": [
       "array([[-5.08542635e+00,  8.48904834e+02, -1.28290173e+04,\n",
       "         1.28967789e+06, -2.98314592e+07,  2.29330301e+09,\n",
       "        -6.84527284e+10,  4.42233759e+12]])"
      ]
     },
     "execution_count": 32,
     "metadata": {},
     "output_type": "execute_result"
    }
   ],
   "source": [
    "mu"
   ]
  },
  {
   "cell_type": "code",
   "execution_count": 33,
   "id": "wrapped-terrorist",
   "metadata": {},
   "outputs": [],
   "source": [
    "std=np.std(X_poly_train[:,1:],axis=0).reshape((1,X_poly_train.shape[1]-1))"
   ]
  },
  {
   "cell_type": "code",
   "execution_count": 34,
   "id": "unlikely-artist",
   "metadata": {},
   "outputs": [
    {
     "data": {
      "text/plain": [
       "array([[2.86887308e+01, 7.54346385e+02, 4.61380464e+04, 1.66104441e+06,\n",
       "        8.99399404e+07, 3.68940106e+09, 1.89508052e+11, 8.31905350e+12]])"
      ]
     },
     "execution_count": 34,
     "metadata": {},
     "output_type": "execute_result"
    }
   ],
   "source": [
    "std"
   ]
  },
  {
   "cell_type": "code",
   "execution_count": 35,
   "id": "injured-romantic",
   "metadata": {},
   "outputs": [],
   "source": [
    "X_poly_train=np.hstack((X_poly_train[:,0].reshape((len(X_poly_train),1)),(X_poly_train[:,1:]-mu)/std))"
   ]
  },
  {
   "cell_type": "code",
   "execution_count": 36,
   "id": "seeing-convert",
   "metadata": {},
   "outputs": [
    {
     "data": {
      "text/plain": [
       "(12, 9)"
      ]
     },
     "execution_count": 36,
     "metadata": {},
     "output_type": "execute_result"
    }
   ],
   "source": [
    "X_poly_train.shape"
   ]
  },
  {
   "cell_type": "code",
   "execution_count": 37,
   "id": "forbidden-grace",
   "metadata": {},
   "outputs": [
    {
     "data": {
      "text/plain": [
       "array([[ 1.00000000e+00, -3.78243704e-01, -7.88662325e-01,\n",
       "         1.90328720e-01, -7.37591303e-01,  3.20251970e-01,\n",
       "        -6.17151602e-01,  3.59835014e-01, -5.31091256e-01],\n",
       "       [ 1.00000000e+00, -8.38920100e-01,  1.31420204e-03,\n",
       "        -2.58961742e-01, -3.41564822e-01,  9.75492734e-02,\n",
       "        -4.55196644e-01,  2.66773432e-01, -4.68873807e-01],\n",
       "       [ 1.00000000e+00,  1.43871736e+00,  6.10831582e-01,\n",
       "         1.30534069e+00,  2.56220001e-01,  1.02186338e+00,\n",
       "        -1.26962121e-02,  7.90210009e-01, -1.77926980e-01],\n",
       "       [ 1.00000000e+00,  1.48412330e+00,  7.38068463e-01,\n",
       "         1.42031240e+00,  4.13121830e-01,  1.15534830e+00,\n",
       "         1.31223708e-01,  9.10700224e-01, -6.22895388e-02],\n",
       "       [ 1.00000000e+00, -1.49791929e+00,  1.93643966e+00,\n",
       "        -2.12774745e+00,  2.43510061e+00, -2.51876748e+00,\n",
       "         2.71792174e+00, -2.76331690e+00,  2.88908182e+00],\n",
       "       [ 1.00000000e+00, -1.34409278e-01, -1.01936614e+00,\n",
       "         2.62563148e-01, -7.72577738e-01,  3.31046537e-01,\n",
       "        -6.21453712e-01,  3.61188658e-01, -5.31586524e-01],\n",
       "       [ 1.00000000e+00,  7.10844248e-01, -8.14713668e-01,\n",
       "         3.55803314e-01, -7.43368461e-01,  3.41027665e-01,\n",
       "        -6.18104683e-01,  3.62252117e-01, -5.31229003e-01],\n",
       "       [ 1.00000000e+00, -1.03249041e+00,  4.71428060e-01,\n",
       "        -6.28018432e-01,  9.70487696e-02, -2.28187552e-01,\n",
       "        -1.47905228e-01,  4.11556057e-02, -2.78551428e-01],\n",
       "       [ 1.00000000e+00,  2.25683763e-01, -1.12279332e+00,\n",
       "         2.78115330e-01, -7.76423647e-01,  3.31682056e-01,\n",
       "        -6.21592224e-01,  3.61212770e-01, -5.31591435e-01],\n",
       "       [ 1.00000000e+00, -1.36981778e+00,  1.48607235e+00,\n",
       "        -1.61695958e+00,  1.55980151e+00, -1.58331392e+00,\n",
       "         1.45040261e+00, -1.42914967e+00,  1.27857621e+00],\n",
       "       [ 1.00000000e+00,  4.21731046e-01, -1.06014377e+00,\n",
       "         2.85534542e-01, -7.74969228e-01,  3.31870677e-01,\n",
       "        -6.21559967e-01,  3.61217175e-01, -5.31590732e-01],\n",
       "       [ 1.00000000e+00,  9.70700848e-01, -4.38475085e-01,\n",
       "         5.33689054e-01, -6.14797521e-01,  3.99629101e-01,\n",
       "        -5.83887796e-01,  3.77921571e-01, -5.22927330e-01]])"
      ]
     },
     "execution_count": 37,
     "metadata": {},
     "output_type": "execute_result"
    }
   ],
   "source": [
    "X_poly_train"
   ]
  },
  {
   "cell_type": "markdown",
   "id": "north-governor",
   "metadata": {},
   "source": [
    "# Fitting The Model"
   ]
  },
  {
   "cell_type": "code",
   "execution_count": 38,
   "id": "entire-literature",
   "metadata": {},
   "outputs": [
    {
     "name": "stdout",
     "output_type": "stream",
     "text": [
      "Warning: Desired error not necessarily achieved due to precision loss.\n",
      "         Current function value: 7.074064\n",
      "         Iterations: 7\n",
      "         Function evaluations: 90\n",
      "         Gradient evaluations: 78\n"
     ]
    }
   ],
   "source": [
    "Theta=fmin_cg(computecost,np.array([1 for i in range(X_poly_train.shape[1])]),gradient,args=(X_poly_train,data['y'],1))"
   ]
  },
  {
   "cell_type": "code",
   "execution_count": 39,
   "id": "improved-representative",
   "metadata": {},
   "outputs": [
    {
     "data": {
      "text/plain": [
       "array([10.88715632,  8.61104416,  4.50960608,  3.48361107,  2.27892261,\n",
       "        1.90501321,  1.48010179,  1.48198181,  1.05841542])"
      ]
     },
     "execution_count": 39,
     "metadata": {},
     "output_type": "execute_result"
    }
   ],
   "source": [
    "Theta"
   ]
  },
  {
   "cell_type": "code",
   "execution_count": 40,
   "id": "victorian-leave",
   "metadata": {},
   "outputs": [
    {
     "data": {
      "text/plain": [
       "(9,)"
      ]
     },
     "execution_count": 40,
     "metadata": {},
     "output_type": "execute_result"
    }
   ],
   "source": [
    "Theta.shape"
   ]
  },
  {
   "cell_type": "markdown",
   "id": "overall-battle",
   "metadata": {},
   "source": [
    "# Visualize The Results"
   ]
  },
  {
   "cell_type": "code",
   "execution_count": 41,
   "id": "hairy-possible",
   "metadata": {},
   "outputs": [],
   "source": [
    "x=np.linspace(-60,60,1500).reshape((1500,1))\n",
    "x_copy=x[:]"
   ]
  },
  {
   "cell_type": "code",
   "execution_count": 42,
   "id": "objective-large",
   "metadata": {},
   "outputs": [],
   "source": [
    "x=poly_features(x,8)"
   ]
  },
  {
   "cell_type": "code",
   "execution_count": 43,
   "id": "productive-hardwood",
   "metadata": {},
   "outputs": [
    {
     "data": {
      "text/plain": [
       "(1500, 9)"
      ]
     },
     "execution_count": 43,
     "metadata": {},
     "output_type": "execute_result"
    }
   ],
   "source": [
    "x.shape"
   ]
  },
  {
   "cell_type": "code",
   "execution_count": 44,
   "id": "norman-stewart",
   "metadata": {},
   "outputs": [],
   "source": [
    "x=np.hstack((x[:,0].reshape((1500,1)),(x[:,1:]-mu)/std))"
   ]
  },
  {
   "cell_type": "code",
   "execution_count": 45,
   "id": "natural-scheduling",
   "metadata": {},
   "outputs": [
    {
     "data": {
      "text/plain": [
       "array([[  1.        ,  -1.91415138,   3.64699191, ...,  12.02436285,\n",
       "        -14.41050785,  19.65839772],\n",
       "       [  1.        ,  -1.91136097,   3.63426567, ...,  11.92346479,\n",
       "        -14.27309747,  19.44389784],\n",
       "       [  1.        ,  -1.90857056,   3.62155642, ...,  11.82323849,\n",
       "        -14.13678417,  19.23139462],\n",
       "       ...,\n",
       "       [  1.        ,   2.26309488,   3.62155642, ...,  11.82323849,\n",
       "         14.85920971,  19.23139462],\n",
       "       [  1.        ,   2.26588529,   3.63426567, ...,  11.92346479,\n",
       "         14.99552301,  19.44389784],\n",
       "       [  1.        ,   2.2686757 ,   3.64699191, ...,  12.02436285,\n",
       "         15.13293339,  19.65839772]])"
      ]
     },
     "execution_count": 45,
     "metadata": {},
     "output_type": "execute_result"
    }
   ],
   "source": [
    "x"
   ]
  },
  {
   "cell_type": "code",
   "execution_count": 46,
   "id": "alert-marijuana",
   "metadata": {},
   "outputs": [],
   "source": [
    "y=np.dot(x,Theta.reshape((len(Theta),1)))"
   ]
  },
  {
   "cell_type": "code",
   "execution_count": 47,
   "id": "accompanied-anatomy",
   "metadata": {},
   "outputs": [
    {
     "data": {
      "text/plain": [
       "(1500, 1)"
      ]
     },
     "execution_count": 47,
     "metadata": {},
     "output_type": "execute_result"
    }
   ],
   "source": [
    "y.shape"
   ]
  },
  {
   "cell_type": "code",
   "execution_count": 121,
   "id": "single-density",
   "metadata": {},
   "outputs": [
    {
     "data": {
      "text/plain": [
       "[<matplotlib.lines.Line2D at 0x7fb70a3f7dc0>]"
      ]
     },
     "execution_count": 121,
     "metadata": {},
     "output_type": "execute_result"
    },
    {
     "data": {
      "image/png": "[encoded data removed]",
      "text/plain": [
       "<Figure size 432x288 with 1 Axes>"
      ]
     },
     "metadata": {
      "needs_background": "light"
     },
     "output_type": "display_data"
    }
   ],
   "source": [
    "plt.plot(data['X'],data['y'],\"rx\")\n",
    "plt.plot(x_copy,y)"
   ]
  },
  {
   "cell_type": "markdown",
   "id": "applicable-debate",
   "metadata": {},
   "source": [
    "# Thank You"
   ]
  }
 ],
 "metadata": {
  "kernelspec": {
   "display_name": "Python 3",
   "language": "python",
   "name": "python3"
  },
  "language_info": {
   "codemirror_mode": {
    "name": "ipython",
    "version": 3
   },
   "file_extension": ".py",
   "mimetype": "text/x-python",
   "name": "python",
   "nbconvert_exporter": "python",
   "pygments_lexer": "ipython3",
   "version": "3.8.5"
  }
 },
 "nbformat": 4,
 "nbformat_minor": 5
}
