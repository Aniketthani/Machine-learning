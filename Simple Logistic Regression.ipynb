{
 "cells": [
  {
   "cell_type": "markdown",
   "id": "solar-rotation",
   "metadata": {},
   "source": [
    "In this part of the exercise, you will build a logistic regression model to\n",
    "predict whether a student gets admitted into a university.\n",
    "Suppose that you are the administrator of a university department and\n",
    "you want to determine each applicant’s chance of admission based on their\n",
    "results on two exams. You have historical data from previous applicants\n",
    "that you can use as a training set for logistic regression. For each training\n",
    "example, you have the applicant’s scores on two exams and the admissions\n",
    "decision.\n",
    "Your task is to build a classification model that estimates an applicant’s\n",
    "probability of admission based the scores from those two exams"
   ]
  },
  {
   "cell_type": "code",
   "execution_count": 1,
   "id": "crude-master",
   "metadata": {},
   "outputs": [],
   "source": [
    "import numpy as np\n",
    "import matplotlib.pyplot as plt"
   ]
  },
  {
   "cell_type": "code",
   "execution_count": 2,
   "id": "educated-incentive",
   "metadata": {},
   "outputs": [],
   "source": [
    "data=np.loadtxt(\"data/ex2data1.txt\",delimiter=\",\")"
   ]
  },
  {
   "cell_type": "code",
   "execution_count": 3,
   "id": "extreme-bookmark",
   "metadata": {},
   "outputs": [
    {
     "data": {
      "text/plain": [
       "array([[34.62365962, 78.02469282,  0.        ],\n",
       "       [30.28671077, 43.89499752,  0.        ],\n",
       "       [35.84740877, 72.90219803,  0.        ],\n",
       "       [60.18259939, 86.3085521 ,  1.        ],\n",
       "       [79.03273605, 75.34437644,  1.        ]])"
      ]
     },
     "execution_count": 3,
     "metadata": {},
     "output_type": "execute_result"
    }
   ],
   "source": [
    "data[0:5,:]\n",
    "#first two colums are marks in two diff exams and third column is Admission done or not"
   ]
  },
  {
   "cell_type": "code",
   "execution_count": 4,
   "id": "seasonal-degree",
   "metadata": {},
   "outputs": [
    {
     "data": {
      "text/plain": [
       "(100, 2)"
      ]
     },
     "execution_count": 4,
     "metadata": {},
     "output_type": "execute_result"
    }
   ],
   "source": [
    "#Training set feature matrix\n",
    "X=data[:,0:2]\n",
    "X.shape"
   ]
  },
  {
   "cell_type": "code",
   "execution_count": 5,
   "id": "curious-somerset",
   "metadata": {},
   "outputs": [],
   "source": [
    "Y=data[:,2]\n",
    "Y=Y.reshape((100,1))"
   ]
  },
  {
   "cell_type": "markdown",
   "id": "otherwise-raising",
   "metadata": {},
   "source": [
    "Adding column feature x0=1 as a column to X"
   ]
  },
  {
   "cell_type": "code",
   "execution_count": 6,
   "id": "leading-medicine",
   "metadata": {},
   "outputs": [],
   "source": [
    "X=np.hstack((np.ones((100,1)),X))"
   ]
  },
  {
   "cell_type": "code",
   "execution_count": 7,
   "id": "specific-burner",
   "metadata": {},
   "outputs": [
    {
     "data": {
      "text/plain": [
       "(100, 3)"
      ]
     },
     "execution_count": 7,
     "metadata": {},
     "output_type": "execute_result"
    }
   ],
   "source": [
    "X.shape"
   ]
  },
  {
   "cell_type": "code",
   "execution_count": 8,
   "id": "suffering-trial",
   "metadata": {},
   "outputs": [
    {
     "data": {
      "text/plain": [
       "array([[ 1.        , 34.62365962, 78.02469282],\n",
       "       [ 1.        , 30.28671077, 43.89499752],\n",
       "       [ 1.        , 35.84740877, 72.90219803],\n",
       "       [ 1.        , 60.18259939, 86.3085521 ],\n",
       "       [ 1.        , 79.03273605, 75.34437644]])"
      ]
     },
     "execution_count": 8,
     "metadata": {},
     "output_type": "execute_result"
    }
   ],
   "source": [
    "X[0:5,:]"
   ]
  },
  {
   "cell_type": "code",
   "execution_count": 9,
   "id": "polish-auction",
   "metadata": {},
   "outputs": [
    {
     "data": {
      "text/plain": [
       "array([[0.],\n",
       "       [0.],\n",
       "       [0.],\n",
       "       [1.],\n",
       "       [1.]])"
      ]
     },
     "execution_count": 9,
     "metadata": {},
     "output_type": "execute_result"
    }
   ],
   "source": [
    "Y[0:5]"
   ]
  },
  {
   "cell_type": "markdown",
   "id": "unknown-petite",
   "metadata": {},
   "source": [
    "# Visualizing the data"
   ]
  },
  {
   "cell_type": "code",
   "execution_count": 10,
   "id": "gorgeous-prerequisite",
   "metadata": {},
   "outputs": [],
   "source": [
    "data_pos=data[data[:,2]==1]\n",
    "data_neg=data[data[:,2]==0]\n",
    "X_pos_1=data_pos[:,0]\n",
    "X_pos_2=data_pos[:,1]\n",
    "X_neg_1=data_neg[:,0]\n",
    "X_neg_2=data_neg[:,1]\n"
   ]
  },
  {
   "cell_type": "code",
   "execution_count": 11,
   "id": "useful-intervention",
   "metadata": {},
   "outputs": [
    {
     "data": {
      "image/png": "[encoded data removed]",
      "text/plain": [
       "<Figure size 432x288 with 1 Axes>"
      ]
     },
     "metadata": {
      "needs_background": "light"
     },
     "output_type": "display_data"
    }
   ],
   "source": [
    "plt.plot(X_pos_1,X_pos_2,\"b+\",label=\"Admitted\")\n",
    "plt.plot(X_neg_1,X_neg_2,\"ro\",label=\"Not Admitted\")\n",
    "plt.xlabel(\"Exam 1 Score\")\n",
    "plt.ylabel(\"Exam 2 Score\")\n",
    "plt.legend(loc=\"upper right\");"
   ]
  },
  {
   "cell_type": "markdown",
   "id": "integral-circus",
   "metadata": {},
   "source": [
    "the logistic regres-\n",
    "sion hypothesis is defined as:\n",
    "h θ (x) = g(θ.Tx),\n",
    "where function g is the sigmoid function. The sigmoid function is defined as:\n",
    "g(z)=1/(1+e^(-z))\n"
   ]
  },
  {
   "cell_type": "code",
   "execution_count": 12,
   "id": "labeled-intention",
   "metadata": {},
   "outputs": [],
   "source": [
    "def sigmoid(z):\n",
    "    return 1/(1+np.exp(-z))"
   ]
  },
  {
   "cell_type": "markdown",
   "id": "alike-renaissance",
   "metadata": {},
   "source": [
    "# Initialize theta"
   ]
  },
  {
   "cell_type": "code",
   "execution_count": 13,
   "id": "heavy-flexibility",
   "metadata": {},
   "outputs": [
    {
     "data": {
      "text/plain": [
       "(3,)"
      ]
     },
     "execution_count": 13,
     "metadata": {},
     "output_type": "execute_result"
    }
   ],
   "source": [
    "theta=np.zeros(3)\n",
    "theta.shape"
   ]
  },
  {
   "cell_type": "markdown",
   "id": "czech-gates",
   "metadata": {},
   "source": [
    "# Costfunction that will return cost and gradient function to return gradient\n",
    "Now we will implement the cost function and gradientc function for logistic regression\n",
    "to return the cost and gradient in 1D numpy array.\n",
    "Then we will use advanced optimization function fmin_ncg to optimize theta to get minimum value of costfunction\n"
   ]
  },
  {
   "cell_type": "code",
   "execution_count": 107,
   "id": "august-sequence",
   "metadata": {},
   "outputs": [],
   "source": [
    "def costfunction(theta,X,Y):\n",
    "    theta=theta.reshape((3,1))\n",
    "    m=Y.shape[0]\n",
    "    J=(-1/m)*(np.dot(Y.T,np.log(sigmoid(np.dot(X,theta)))) + np.dot(1-Y.T,np.log(sigmoid(1-np.dot(X,theta)))))\n",
    "    J=np.ndarray.flatten(J)\n",
    "    \n",
    "    \n",
    "    return J"
   ]
  },
  {
   "cell_type": "code",
   "execution_count": 108,
   "id": "competent-dispute",
   "metadata": {},
   "outputs": [],
   "source": [
    "def gradientfunction(theta,X,Y):\n",
    "    m=Y.shape[0]\n",
    "    theta=theta.reshape((3,1))\n",
    "    gradient=(1/m)*(np.dot(X.T,sigmoid(np.dot(X,theta)) - Y))\n",
    "    gradient=np.ndarray.flatten(gradient)\n",
    "    return gradient"
   ]
  },
  {
   "cell_type": "code",
   "execution_count": 109,
   "id": "global-generator",
   "metadata": {},
   "outputs": [
    {
     "name": "stdout",
     "output_type": "stream",
     "text": [
      "[0.54119298]\n"
     ]
    }
   ],
   "source": [
    "#Initial Cost\n",
    "print(costfunction(np.array([0,0,0]),X,Y))"
   ]
  },
  {
   "cell_type": "code",
   "execution_count": 110,
   "id": "interesting-cornwall",
   "metadata": {},
   "outputs": [
    {
     "name": "stdout",
     "output_type": "stream",
     "text": [
      "[ -0.1        -12.00921659 -11.26284221]\n"
     ]
    }
   ],
   "source": [
    "#Initial gradient\n",
    "print(gradientfunction(np.array([0,0,0]),X,Y))"
   ]
  },
  {
   "cell_type": "markdown",
   "id": "south-attitude",
   "metadata": {},
   "source": [
    "# Optmize Theta with the help of fmin_ncg"
   ]
  },
  {
   "cell_type": "code",
   "execution_count": 111,
   "id": "productive-mouth",
   "metadata": {},
   "outputs": [],
   "source": [
    "from scipy.optimize import fmin_ncg"
   ]
  },
  {
   "cell_type": "code",
   "execution_count": 113,
   "id": "regulated-bargain",
   "metadata": {},
   "outputs": [
    {
     "name": "stdout",
     "output_type": "stream",
     "text": [
      "Warning: Desired error not necessarily achieved due to precision loss.\n",
      "         Current function value: 0.150824\n",
      "         Iterations: 24\n",
      "         Function evaluations: 65\n",
      "         Gradient evaluations: 160\n",
      "         Hessian evaluations: 0\n"
     ]
    }
   ],
   "source": [
    "myargs=(X,Y)\n",
    "\n",
    "Theta=fmin_ncg(costfunction,x0=np.zeros((3,1)),fprime=gradientfunction,args=myargs)"
   ]
  },
  {
   "cell_type": "code",
   "execution_count": 114,
   "id": "optical-station",
   "metadata": {},
   "outputs": [
    {
     "data": {
      "text/plain": [
       "array([-22.67053848,   0.18629995,   0.18131027])"
      ]
     },
     "execution_count": 114,
     "metadata": {},
     "output_type": "execute_result"
    }
   ],
   "source": [
    "#optimized theta\n",
    "Theta"
   ]
  },
  {
   "cell_type": "code",
   "execution_count": 115,
   "id": "descending-tonight",
   "metadata": {},
   "outputs": [
    {
     "data": {
      "text/plain": [
       "array([0.15082361])"
      ]
     },
     "execution_count": 115,
     "metadata": {},
     "output_type": "execute_result"
    }
   ],
   "source": [
    "#minimized value of cost function\n",
    "costfunction(Theta,X,Y)"
   ]
  },
  {
   "cell_type": "markdown",
   "id": "monthly-irish",
   "metadata": {},
   "source": [
    "# Function to predict Admitted or Not i.e.(0,1) \n",
    "if sigmoid(X*Theta) >= 0.5, predict 1 else predict 0"
   ]
  },
  {
   "cell_type": "code",
   "execution_count": 116,
   "id": "nervous-maine",
   "metadata": {},
   "outputs": [],
   "source": [
    "def predict(Theta,X):\n",
    "    p=sigmoid(np.dot(X,Theta))\n",
    "    p[p>=0.5]=1\n",
    "    p[p<0.5]=0\n",
    "    return p"
   ]
  },
  {
   "cell_type": "code",
   "execution_count": 117,
   "id": "understanding-graph",
   "metadata": {},
   "outputs": [],
   "source": [
    "p=predict(Theta,X)"
   ]
  },
  {
   "cell_type": "code",
   "execution_count": 124,
   "id": "resident-closure",
   "metadata": {},
   "outputs": [
    {
     "data": {
      "text/plain": [
       "array([0., 0., 0., 1., 1., 0., 1., 0., 1., 1., 1., 0., 1., 1., 0., 1., 0.,\n",
       "       0., 1., 1., 0., 1., 0., 0., 1., 1., 1., 1., 0., 0., 1., 1., 0., 0.,\n",
       "       0., 0., 1., 1., 0., 0., 1., 0., 1., 1., 0., 0., 1., 1., 1., 1., 1.,\n",
       "       1., 1., 0., 0., 0., 1., 1., 1., 1., 1., 0., 0., 0., 0., 0., 1., 0.,\n",
       "       1., 1., 0., 1., 1., 1., 1., 1., 1., 1., 0., 1., 1., 1., 1., 0., 1.,\n",
       "       1., 0., 1., 1., 0., 1., 1., 0., 1., 1., 1., 1., 1., 0., 1.])"
      ]
     },
     "execution_count": 124,
     "metadata": {},
     "output_type": "execute_result"
    }
   ],
   "source": [
    "p"
   ]
  },
  {
   "cell_type": "markdown",
   "id": "adopted-imagination",
   "metadata": {},
   "source": [
    "# Training accuracy"
   ]
  },
  {
   "cell_type": "code",
   "execution_count": 128,
   "id": "native-satellite",
   "metadata": {},
   "outputs": [],
   "source": [
    "def taccuracy(p,Y):\n",
    "    return ((100-p.sum())/(100-Y.sum()))*100 "
   ]
  },
  {
   "cell_type": "code",
   "execution_count": 129,
   "id": "arbitrary-reasoning",
   "metadata": {},
   "outputs": [],
   "source": [
    "accuracy=taccuracy(p,Y)"
   ]
  },
  {
   "cell_type": "code",
   "execution_count": 130,
   "id": "lyric-lawrence",
   "metadata": {},
   "outputs": [
    {
     "data": {
      "text/plain": [
       "97.5"
      ]
     },
     "execution_count": 130,
     "metadata": {},
     "output_type": "execute_result"
    }
   ],
   "source": [
    "accuracy"
   ]
  },
  {
   "cell_type": "markdown",
   "id": "adjusted-greece",
   "metadata": {},
   "source": [
    "# Plotting the decision boundary"
   ]
  },
  {
   "cell_type": "markdown",
   "id": "joint-characterization",
   "metadata": {},
   "source": [
    "theta0 + theta1*x1 + theta2*x2=0\n",
    "\n",
    "x2=(-1/theta2)*(theta0 + theta1*x1)"
   ]
  },
  {
   "cell_type": "code",
   "execution_count": 133,
   "id": "marked-mercy",
   "metadata": {},
   "outputs": [],
   "source": [
    "theta0=Theta[0]\n",
    "theta1=Theta[1]\n",
    "theta2=Theta[2]"
   ]
  },
  {
   "cell_type": "code",
   "execution_count": 135,
   "id": "smaller-purchase",
   "metadata": {},
   "outputs": [],
   "source": [
    "x1=np.linspace(20,100,2000)\n",
    "x2=(-1/theta2)*(theta0 + theta1*x1)"
   ]
  },
  {
   "cell_type": "code",
   "execution_count": 136,
   "id": "median-soviet",
   "metadata": {},
   "outputs": [
    {
     "data": {
      "image/png": "[encoded data removed]",
      "text/plain": [
       "<Figure size 432x288 with 1 Axes>"
      ]
     },
     "metadata": {
      "needs_background": "light"
     },
     "output_type": "display_data"
    }
   ],
   "source": [
    "plt.plot(X_pos_1,X_pos_2,\"b+\",label=\"Admitted\")\n",
    "plt.plot(X_neg_1,X_neg_2,\"ro\",label=\"Not Admitted\")\n",
    "plt.xlabel(\"Exam 1 Score\")\n",
    "plt.ylabel(\"Exam 2 Score\")\n",
    "plt.plot(x1,x2,\"k\")\n",
    "plt.legend(loc=\"upper right\");"
   ]
  },
  {
   "cell_type": "markdown",
   "id": "great-scroll",
   "metadata": {},
   "source": [
    "# Thank You"
   ]
  }
 ],
 "metadata": {
  "kernelspec": {
   "display_name": "Python 3",
   "language": "python",
   "name": "python3"
  },
  "language_info": {
   "codemirror_mode": {
    "name": "ipython",
    "version": 3
   },
   "file_extension": ".py",
   "mimetype": "text/x-python",
   "name": "python",
   "nbconvert_exporter": "python",
   "pygments_lexer": "ipython3",
   "version": "3.8.5"
  }
 },
 "nbformat": 4,
 "nbformat_minor": 5
}
