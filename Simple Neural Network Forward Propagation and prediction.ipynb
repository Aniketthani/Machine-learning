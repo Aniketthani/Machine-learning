{
 "cells": [
  {
   "cell_type": "markdown",
   "id": "regulation-joshua",
   "metadata": {},
   "source": [
    "we will implement a neural network to recognize handwritten digits using the same training set . The neural\n",
    "network will be able to represent complex models that form non-linear hy-\n",
    "potheses.We will be using parameters from a neural network\n",
    "that have already trained. Our goal is to implement the feedforward\n",
    "propagation algorithm to use our weights for prediction."
   ]
  },
  {
   "cell_type": "markdown",
   "id": "alternate-bernard",
   "metadata": {},
   "source": [
    "Our Neural Network has 3 layers – an input layer, a\n",
    "hidden layer and an output layer. Recall that our inputs are pixel values of\n",
    "digit images. Since the images are of size 20×20, this gives us 400 input layer\n",
    "units (excluding the extra bias unit which always outputs +1). As before,\n",
    "the training data will be loaded into the variables X and y.\n",
    "We have been provided with a set of network parameters (Θ (1) , Θ (2) )\n",
    "already trained by us. These are stored in ex3weights.mat"
   ]
  },
  {
   "cell_type": "markdown",
   "id": "massive-fault",
   "metadata": {},
   "source": [
    "The parameters have dimensions\n",
    "that are sized for a neural network with 25 units in the second layer and 10\n",
    "output units (corresponding to the 10 digit classes)."
   ]
  },
  {
   "cell_type": "code",
   "execution_count": 1,
   "id": "sharing-excess",
   "metadata": {},
   "outputs": [],
   "source": [
    "import numpy as np\n",
    "from scipy.io import loadmat"
   ]
  },
  {
   "cell_type": "code",
   "execution_count": 2,
   "id": "recreational-calculation",
   "metadata": {},
   "outputs": [],
   "source": [
    "data=loadmat('data/ex3data1.mat')"
   ]
  },
  {
   "cell_type": "code",
   "execution_count": 3,
   "id": "usual-warning",
   "metadata": {},
   "outputs": [],
   "source": [
    "weights=loadmat('data/ex3weights.mat')"
   ]
  },
  {
   "cell_type": "code",
   "execution_count": 4,
   "id": "attached-dayton",
   "metadata": {},
   "outputs": [
    {
     "data": {
      "text/plain": [
       "{'__header__': b'MATLAB 5.0 MAT-file, Platform: GLNXA64, Created on: Sun Oct 16 13:09:09 2011',\n",
       " '__version__': '1.0',\n",
       " '__globals__': [],\n",
       " 'X': array([[0., 0., 0., ..., 0., 0., 0.],\n",
       "        [0., 0., 0., ..., 0., 0., 0.],\n",
       "        [0., 0., 0., ..., 0., 0., 0.],\n",
       "        ...,\n",
       "        [0., 0., 0., ..., 0., 0., 0.],\n",
       "        [0., 0., 0., ..., 0., 0., 0.],\n",
       "        [0., 0., 0., ..., 0., 0., 0.]]),\n",
       " 'y': array([[10],\n",
       "        [10],\n",
       "        [10],\n",
       "        ...,\n",
       "        [ 9],\n",
       "        [ 9],\n",
       "        [ 9]], dtype=uint8)}"
      ]
     },
     "execution_count": 4,
     "metadata": {},
     "output_type": "execute_result"
    }
   ],
   "source": [
    "data"
   ]
  },
  {
   "cell_type": "code",
   "execution_count": 5,
   "id": "flying-beatles",
   "metadata": {},
   "outputs": [
    {
     "data": {
      "text/plain": [
       "{'__header__': b'MATLAB 5.0 MAT-file, Platform: GLNXA64, Created on: Tue Oct 18 14:57:02 2011',\n",
       " '__version__': '1.0',\n",
       " '__globals__': [],\n",
       " 'Theta1': array([[-2.25623899e-02, -1.05624163e-08,  2.19414684e-09, ...,\n",
       "         -1.30529929e-05, -5.04175101e-06,  2.80464449e-09],\n",
       "        [-9.83811294e-02,  7.66168682e-09, -9.75873689e-09, ...,\n",
       "         -5.60134007e-05,  2.00940969e-07,  3.54422854e-09],\n",
       "        [ 1.16156052e-01, -8.77654466e-09,  8.16037764e-09, ...,\n",
       "         -1.20951657e-04, -2.33669661e-06, -7.50668099e-09],\n",
       "        ...,\n",
       "        [-1.83220638e-01, -8.89272060e-09, -9.81968100e-09, ...,\n",
       "          2.35311186e-05, -3.25484493e-06,  9.02499060e-09],\n",
       "        [-7.02096331e-01,  3.05178374e-10,  2.56061008e-09, ...,\n",
       "         -8.61759744e-04,  9.43449909e-05,  3.83761998e-09],\n",
       "        [-3.50933229e-01,  8.85876862e-09, -6.57515140e-10, ...,\n",
       "         -1.80365926e-06, -8.14464807e-06,  8.79454531e-09]]),\n",
       " 'Theta2': array([[-0.76100352, -1.21244498, -0.10187131, -2.36850085, -1.05778129,\n",
       "         -2.20823629,  0.56383834,  1.21105294,  2.21030997,  0.44456156,\n",
       "         -1.18244872,  1.04289112, -1.60558756,  1.30419943,  1.37175046,\n",
       "          1.74825095, -0.23365648, -1.52014483,  1.15324176,  0.10368082,\n",
       "         -0.37207719, -0.61530019, -0.1256836 , -2.27193038, -0.71836208,\n",
       "         -1.29690315],\n",
       "        [-0.61785176,  0.61559207, -1.26550639,  1.85745418, -0.91853319,\n",
       "         -0.05502589, -0.38589806,  1.29520853, -1.56843297, -0.97026419,\n",
       "         -2.18334895, -2.85033578, -2.07733086,  1.63163164,  0.3490229 ,\n",
       "          1.82789117, -2.44174379, -0.8563034 , -0.2982564 , -2.07947873,\n",
       "         -1.2933238 ,  0.89982032,  0.28306578,  2.31180525, -2.46444086,\n",
       "          1.45656548],\n",
       "        [-0.68934072, -1.94538151,  2.01360618, -3.12316188, -0.2361763 ,\n",
       "          1.38680947,  0.90982429, -1.54774416, -0.79830896, -0.65599834,\n",
       "          0.7353833 , -2.58593294,  0.47210839,  0.55349499,  2.51255453,\n",
       "         -2.4167454 , -1.63898627,  1.2027302 , -1.20245851, -1.83445959,\n",
       "         -1.88013027, -0.34056098,  0.23692483, -1.06137919,  1.02759232,\n",
       "         -0.47690832],\n",
       "        [-0.67832479,  0.46299226,  0.58492321, -0.1650184 ,  1.93264192,\n",
       "         -0.22965765, -1.84731492,  0.49011768,  1.07146054, -3.31905643,\n",
       "          1.54113507,  0.37371947, -0.86484681, -2.58273522,  0.97062447,\n",
       "         -0.51021867, -0.68427897, -1.64713607,  0.21153145, -0.27422442,\n",
       "          1.72599755,  1.32418658, -2.63984479, -0.08055871, -2.03510803,\n",
       "         -1.46123776],\n",
       "        [-0.59664339, -2.04481799,  2.05698407,  1.95100909,  0.17637699,\n",
       "         -2.16141218, -0.40394736,  1.80157532, -1.56278739, -0.25253004,\n",
       "          0.23586497,  0.71656699,  1.07689092, -0.35457279, -1.67743058,\n",
       "         -0.12939255, -0.67488849,  1.14066535,  1.32431237,  3.21158484,\n",
       "         -2.15888898, -2.60164082, -3.2226466 , -1.89612906, -0.87488068,\n",
       "          2.51038628],\n",
       "        [-0.87794907,  0.4344112 , -0.93161049,  0.18390778, -0.36078216,\n",
       "          0.61958137,  0.38624948, -2.65150343,  2.29710773, -2.08818098,\n",
       "         -1.86382323,  1.06057836,  0.77562146,  2.1346861 , -1.14973702,\n",
       "         -0.52081426,  0.99743429, -1.48309353, -2.3139424 ,  0.29517333,\n",
       "         -0.38704879, -2.20607697,  0.30702191, -1.17646114, -1.63462966,\n",
       "         -0.82467661],\n",
       "        [-0.52746527,  1.21564288, -1.50095981, -2.03195359, -1.52366734,\n",
       "         -2.43732079, -2.37570311, -1.39987277, -0.88735315, -0.63278873,\n",
       "          1.50450176, -1.580763  ,  0.58599217, -0.77540416,  0.94257331,\n",
       "          2.10919653,  0.54479132,  0.43773612, -1.28024228, -0.04360994,\n",
       "          1.4774997 , -1.13276949, -0.72846904,  0.04734716,  1.6574566 ,\n",
       "          1.68540944],\n",
       "        [-0.7490154 , -0.72249056, -3.15228173,  0.36577778,  0.19811362,\n",
       "         -0.73059946,  1.65263918, -2.300357  , -1.87468162,  0.98095387,\n",
       "         -1.58825159,  1.35434142,  2.17895331, -1.99239762, -2.00371362,\n",
       "         -0.388613  , -2.33992976, -2.91719062,  0.99398645, -2.70476768,\n",
       "         -1.27139772,  1.86091461, -1.20519404, -0.38014194,  0.7087181 ,\n",
       "         -2.11014003],\n",
       "        [-0.6665468 ,  0.53601845,  1.30307573, -1.03372714, -4.03084753,\n",
       "          0.58173469, -2.65717902,  0.80379994, -1.09241928,  2.49910058,\n",
       "          0.362008  ,  0.66195337, -0.92160534, -0.83123666, -2.00200952,\n",
       "         -2.94897501,  0.64564202, -1.10114694,  0.74510309,  0.58506717,\n",
       "         -1.99545251,  0.62591105,  1.80596103, -0.22309315, -1.40442136,\n",
       "         -2.1319153 ],\n",
       "        [-0.46089119, -1.43944954, -1.21809509,  0.71093011,  0.45216919,\n",
       "         -0.35953381,  0.62284954, -0.67005297, -0.7069138 ,  0.06311351,\n",
       "         -1.23199074, -1.74645233, -2.71960897, -2.21437178, -1.69307505,\n",
       "         -0.90927394,  0.87852311,  1.18664814, -1.87041262,  0.39796295,\n",
       "          1.72113872, -1.36934055,  0.8580668 , -0.24779579,  1.28009118,\n",
       "         -1.32752042]])}"
      ]
     },
     "execution_count": 5,
     "metadata": {},
     "output_type": "execute_result"
    }
   ],
   "source": [
    "weights"
   ]
  },
  {
   "cell_type": "code",
   "execution_count": 6,
   "id": "close-cardiff",
   "metadata": {},
   "outputs": [],
   "source": [
    "X=data['X']\n",
    "X=np.hstack((np.ones((len(X),1)),X))\n",
    "Y=data['y']\n",
    "Theta1=weights['Theta1']\n",
    "Theta2=weights['Theta2']"
   ]
  },
  {
   "cell_type": "code",
   "execution_count": 7,
   "id": "substantial-kinase",
   "metadata": {},
   "outputs": [
    {
     "data": {
      "text/plain": [
       "(5000, 401)"
      ]
     },
     "execution_count": 7,
     "metadata": {},
     "output_type": "execute_result"
    }
   ],
   "source": [
    "X.shape"
   ]
  },
  {
   "cell_type": "code",
   "execution_count": 8,
   "id": "faced-composer",
   "metadata": {},
   "outputs": [
    {
     "data": {
      "text/plain": [
       "(5000, 1)"
      ]
     },
     "execution_count": 8,
     "metadata": {},
     "output_type": "execute_result"
    }
   ],
   "source": [
    "Y.shape"
   ]
  },
  {
   "cell_type": "code",
   "execution_count": 9,
   "id": "specialized-jacket",
   "metadata": {},
   "outputs": [
    {
     "data": {
      "text/plain": [
       "(25, 401)"
      ]
     },
     "execution_count": 9,
     "metadata": {},
     "output_type": "execute_result"
    }
   ],
   "source": [
    "Theta1.shape"
   ]
  },
  {
   "cell_type": "code",
   "execution_count": 10,
   "id": "sought-dutch",
   "metadata": {},
   "outputs": [
    {
     "data": {
      "text/plain": [
       "(10, 26)"
      ]
     },
     "execution_count": 10,
     "metadata": {},
     "output_type": "execute_result"
    }
   ],
   "source": [
    "Theta2.shape"
   ]
  },
  {
   "cell_type": "markdown",
   "id": "average-shoot",
   "metadata": {},
   "source": [
    "# Sigmoid function"
   ]
  },
  {
   "cell_type": "code",
   "execution_count": 11,
   "id": "changing-recycling",
   "metadata": {},
   "outputs": [],
   "source": [
    "def sigmoid(z):\n",
    "    return 1/(1+np.exp(-z))"
   ]
  },
  {
   "cell_type": "markdown",
   "id": "suburban-december",
   "metadata": {},
   "source": [
    "# FeedForward Propagation"
   ]
  },
  {
   "cell_type": "code",
   "execution_count": 12,
   "id": "utility-vulnerability",
   "metadata": {},
   "outputs": [],
   "source": [
    "A2=sigmoid(np.dot(X,Theta1.T))"
   ]
  },
  {
   "cell_type": "code",
   "execution_count": 13,
   "id": "distinct-executive",
   "metadata": {},
   "outputs": [
    {
     "data": {
      "text/plain": [
       "(5000, 25)"
      ]
     },
     "execution_count": 13,
     "metadata": {},
     "output_type": "execute_result"
    }
   ],
   "source": [
    "A2.shape"
   ]
  },
  {
   "cell_type": "code",
   "execution_count": 14,
   "id": "processed-rhythm",
   "metadata": {},
   "outputs": [],
   "source": [
    "A2=np.hstack((np.ones((len(A2),1)),A2))"
   ]
  },
  {
   "cell_type": "code",
   "execution_count": 15,
   "id": "hawaiian-gossip",
   "metadata": {},
   "outputs": [
    {
     "data": {
      "text/plain": [
       "(5000, 26)"
      ]
     },
     "execution_count": 15,
     "metadata": {},
     "output_type": "execute_result"
    }
   ],
   "source": [
    "A2.shape"
   ]
  },
  {
   "cell_type": "code",
   "execution_count": 16,
   "id": "valuable-universe",
   "metadata": {},
   "outputs": [],
   "source": [
    "A3=sigmoid(np.dot(A2,Theta2.T))"
   ]
  },
  {
   "cell_type": "code",
   "execution_count": 17,
   "id": "filled-probability",
   "metadata": {},
   "outputs": [
    {
     "data": {
      "text/plain": [
       "(5000, 10)"
      ]
     },
     "execution_count": 17,
     "metadata": {},
     "output_type": "execute_result"
    }
   ],
   "source": [
    "A3.shape"
   ]
  },
  {
   "cell_type": "code",
   "execution_count": 18,
   "id": "ancient-disease",
   "metadata": {},
   "outputs": [],
   "source": [
    "Y_predictions=np.zeros((len(A3)))"
   ]
  },
  {
   "cell_type": "code",
   "execution_count": 21,
   "id": "charming-trauma",
   "metadata": {},
   "outputs": [],
   "source": [
    "for i in range(len(A3)):\n",
    "    Y_predictions[i]=np.argmax(A3[i]) +1"
   ]
  },
  {
   "cell_type": "markdown",
   "id": "neutral-advancement",
   "metadata": {},
   "source": [
    "# Accuracy"
   ]
  },
  {
   "cell_type": "code",
   "execution_count": 28,
   "id": "raised-origin",
   "metadata": {},
   "outputs": [
    {
     "data": {
      "text/plain": [
       "4876"
      ]
     },
     "execution_count": 28,
     "metadata": {},
     "output_type": "execute_result"
    }
   ],
   "source": [
    "count=0\n",
    "for i in range(len(A3)):\n",
    "    if Y_predictions[i]==Y[i]:\n",
    "        count+=1\n",
    "count"
   ]
  },
  {
   "cell_type": "code",
   "execution_count": 29,
   "id": "recorded-guitar",
   "metadata": {},
   "outputs": [],
   "source": [
    "#accuracy"
   ]
  },
  {
   "cell_type": "code",
   "execution_count": 30,
   "id": "rural-cancellation",
   "metadata": {},
   "outputs": [
    {
     "data": {
      "text/plain": [
       "97.52"
      ]
     },
     "execution_count": 30,
     "metadata": {},
     "output_type": "execute_result"
    }
   ],
   "source": [
    "(count/5000)*100"
   ]
  },
  {
   "cell_type": "markdown",
   "id": "linear-lafayette",
   "metadata": {},
   "source": [
    "# Thank You"
   ]
  }
 ],
 "metadata": {
  "kernelspec": {
   "display_name": "Python 3",
   "language": "python",
   "name": "python3"
  },
  "language_info": {
   "codemirror_mode": {
    "name": "ipython",
    "version": 3
   },
   "file_extension": ".py",
   "mimetype": "text/x-python",
   "name": "python",
   "nbconvert_exporter": "python",
   "pygments_lexer": "ipython3",
   "version": "3.8.5"
  }
 },
 "nbformat": 4,
 "nbformat_minor": 5
}
