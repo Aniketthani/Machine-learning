{
 "cells": [
  {
   "cell_type": "markdown",
   "id": "challenging-palmer",
   "metadata": {},
   "source": [
    "We will implement regularized logistic regression\n",
    "to predict whether microchips from a fabrication plant passes quality assur-\n",
    "ance (QA). During QA, each microchip goes through various tests to ensure\n",
    "it is functioning correctly.\n",
    "Suppose you are the product manager of the factory and you have the\n",
    "test results for some microchips on two different tests. From these two tests,\n",
    "you would like to determine whether the microchips should be accepted or\n",
    "rejected. To help you make the decision, you have a dataset of test results\n",
    "on past microchips, from which you can build a logistic regression model."
   ]
  },
  {
   "cell_type": "code",
   "execution_count": 1,
   "id": "unlike-chair",
   "metadata": {},
   "outputs": [],
   "source": [
    "import numpy as np\n",
    "import matplotlib.pyplot as plt"
   ]
  },
  {
   "cell_type": "markdown",
   "id": "atomic-salem",
   "metadata": {},
   "source": [
    "# Load Data"
   ]
  },
  {
   "cell_type": "code",
   "execution_count": 2,
   "id": "ethical-vegetation",
   "metadata": {},
   "outputs": [],
   "source": [
    "data=np.loadtxt(\"data/ex2data2.txt\",delimiter=\",\")"
   ]
  },
  {
   "cell_type": "code",
   "execution_count": 3,
   "id": "photographic-movie",
   "metadata": {},
   "outputs": [
    {
     "data": {
      "text/plain": [
       "array([[ 0.051267,  0.69956 ,  1.      ],\n",
       "       [-0.092742,  0.68494 ,  1.      ],\n",
       "       [-0.21371 ,  0.69225 ,  1.      ],\n",
       "       [-0.375   ,  0.50219 ,  1.      ],\n",
       "       [-0.51325 ,  0.46564 ,  1.      ]])"
      ]
     },
     "execution_count": 3,
     "metadata": {},
     "output_type": "execute_result"
    }
   ],
   "source": [
    "data[:5,:]"
   ]
  },
  {
   "cell_type": "markdown",
   "id": "opposed-oxford",
   "metadata": {},
   "source": [
    "# X and Y"
   ]
  },
  {
   "cell_type": "code",
   "execution_count": 4,
   "id": "julian-breath",
   "metadata": {},
   "outputs": [],
   "source": [
    "X=data[:,0:2]\n",
    "X=np.hstack((np.ones((data.shape[0],1)),X))"
   ]
  },
  {
   "cell_type": "code",
   "execution_count": 5,
   "id": "vertical-gather",
   "metadata": {},
   "outputs": [
    {
     "data": {
      "text/plain": [
       "array([[ 1.      ,  0.051267,  0.69956 ],\n",
       "       [ 1.      , -0.092742,  0.68494 ],\n",
       "       [ 1.      , -0.21371 ,  0.69225 ],\n",
       "       [ 1.      , -0.375   ,  0.50219 ],\n",
       "       [ 1.      , -0.51325 ,  0.46564 ]])"
      ]
     },
     "execution_count": 5,
     "metadata": {},
     "output_type": "execute_result"
    }
   ],
   "source": [
    "X[:5,:]"
   ]
  },
  {
   "cell_type": "code",
   "execution_count": 6,
   "id": "possible-holocaust",
   "metadata": {},
   "outputs": [],
   "source": [
    "Y=data[:,2]\n",
    "Y=Y.reshape((data.shape[0],1))"
   ]
  },
  {
   "cell_type": "code",
   "execution_count": 7,
   "id": "supported-shipping",
   "metadata": {},
   "outputs": [
    {
     "data": {
      "text/plain": [
       "array([[1.],\n",
       "       [1.],\n",
       "       [1.],\n",
       "       [1.],\n",
       "       [1.]])"
      ]
     },
     "execution_count": 7,
     "metadata": {},
     "output_type": "execute_result"
    }
   ],
   "source": [
    "Y[:5]"
   ]
  },
  {
   "cell_type": "markdown",
   "id": "quarterly-currency",
   "metadata": {},
   "source": [
    "# Visualizing the data"
   ]
  },
  {
   "cell_type": "code",
   "execution_count": 8,
   "id": "valuable-miller",
   "metadata": {},
   "outputs": [],
   "source": [
    "data_pos=data[data[:,2]==1]\n",
    "data_neg=data[data[:,2]==0]\n",
    "x1_pos=data_pos[:,0]\n",
    "x2_pos=data_pos[:,1]\n",
    "x1_neg=data_neg[:,0]\n",
    "x2_neg=data_neg[:,1]"
   ]
  },
  {
   "cell_type": "code",
   "execution_count": 9,
   "id": "convertible-branch",
   "metadata": {},
   "outputs": [
    {
     "data": {
      "image/png": "[encoded data removed]",
      "text/plain": [
       "<Figure size 648x648 with 1 Axes>"
      ]
     },
     "metadata": {
      "needs_background": "light"
     },
     "output_type": "display_data"
    }
   ],
   "source": [
    "plt.figure(figsize=(9,9))\n",
    "plt.plot(x1_pos,x2_pos,\"b+\",label=\"Y=1\")\n",
    "plt.plot(x1_neg,x2_neg,\"ro\",label=\"Y=0\")\n",
    "plt.xlabel(\"Microchip Test 1\")\n",
    "plt.ylabel(\"Microchip Test 2\")\n",
    "plt.legend(loc=\"upper right\");"
   ]
  },
  {
   "cell_type": "markdown",
   "id": "circular-cylinder",
   "metadata": {},
   "source": [
    "Figure shows that our dataset cannot be separated into positive and\n",
    "negative examples by a straight-line through the plot. Therefore, a straight-\n",
    "forward application of logistic regression will not perform well on this dataset\n",
    "since logistic regression will only be able to find a linear decision boundary."
   ]
  },
  {
   "cell_type": "markdown",
   "id": "stock-sucking",
   "metadata": {},
   "source": [
    "# Feature mapping"
   ]
  },
  {
   "cell_type": "markdown",
   "id": "packed-wichita",
   "metadata": {},
   "source": [
    "One way to fit the data better is to create more features from each data\n",
    "point."
   ]
  },
  {
   "cell_type": "markdown",
   "id": "remarkable-evolution",
   "metadata": {},
   "source": [
    "we will map the features into\n",
    "all polynomial terms of x 1 and x 2 up to the sixth power."
   ]
  },
  {
   "cell_type": "markdown",
   "id": "accredited-vegetarian",
   "metadata": {},
   "source": [
    "As a result of this mapping, our vector of two features (the scores on\n",
    "two QA tests) has been transformed into a 28-dimensional vector. A logistic\n",
    "regression classifier trained on this higher-dimension feature vector will have\n",
    "a more complex decision boundary and will appear nonlinear when drawn in\n",
    "our 2-dimensional plot.\n",
    "While the feature mapping allows us to build a more expressive classifier,\n",
    "it also more susceptible to overfitting."
   ]
  },
  {
   "cell_type": "markdown",
   "id": "south-bennett",
   "metadata": {},
   "source": [
    "In the next parts of the exercise, we\n",
    "will implement regularized logistic regression to fit the data and also see for\n",
    "yourself how regularization can help combat the overfitting problem."
   ]
  },
  {
   "cell_type": "code",
   "execution_count": 10,
   "id": "rational-effort",
   "metadata": {},
   "outputs": [],
   "source": [
    "def mapfeature(x1,x2):\n",
    "    feature=np.ones((len(x1),1))\n",
    "    \n",
    "    degree=6\n",
    "    \n",
    "    for i in range(1,7):\n",
    "        for j in range(0,i+1):\n",
    "            out=(x1**(i-j))*(x2**j).reshape((len(x1),1))\n",
    "            feature=np.hstack((feature,out))\n",
    "    return feature"
   ]
  },
  {
   "cell_type": "code",
   "execution_count": 11,
   "id": "hired-staff",
   "metadata": {},
   "outputs": [],
   "source": [
    "X_new=mapfeature(data[:,0].reshape((data.shape[0]),1),data[:,1].reshape((data.shape[0]),1))"
   ]
  },
  {
   "cell_type": "code",
   "execution_count": 12,
   "id": "competent-carry",
   "metadata": {},
   "outputs": [
    {
     "data": {
      "text/plain": [
       "(118, 28)"
      ]
     },
     "execution_count": 12,
     "metadata": {},
     "output_type": "execute_result"
    }
   ],
   "source": [
    "X_new.shape"
   ]
  },
  {
   "cell_type": "markdown",
   "id": "killing-relative",
   "metadata": {},
   "source": [
    "# Sigmoid Function"
   ]
  },
  {
   "cell_type": "code",
   "execution_count": 13,
   "id": "confident-frequency",
   "metadata": {},
   "outputs": [],
   "source": [
    "def sigmoid(z):\n",
    "    return 1/(1+np.exp(-z))"
   ]
  },
  {
   "cell_type": "markdown",
   "id": "confused-borough",
   "metadata": {},
   "source": [
    "# Cost function and gradient function"
   ]
  },
  {
   "cell_type": "code",
   "execution_count": 14,
   "id": "experienced-settlement",
   "metadata": {},
   "outputs": [],
   "source": [
    "def costfunction(theta,X,Y,lamb):\n",
    "    m=Y.shape[0]\n",
    "    theta=theta.reshape((28,1))\n",
    "    \n",
    "    J=(-1/m)*(np.dot(Y.T,np.log(sigmoid(np.dot(X,theta)))) + np.dot(1-Y.T,np.log(sigmoid(1-np.dot(X,theta))))) + (0.5*lamb/m)*(np.dot(theta.T,theta)-theta[0,0]**2)\n",
    "    J=np.ndarray.flatten(J)\n",
    "    return J"
   ]
  },
  {
   "cell_type": "code",
   "execution_count": 15,
   "id": "prospective-marriage",
   "metadata": {},
   "outputs": [
    {
     "data": {
      "text/plain": [
       "array([0.49998507])"
      ]
     },
     "execution_count": 15,
     "metadata": {},
     "output_type": "execute_result"
    }
   ],
   "source": [
    "costfunction(np.array([0 for i in range(28)]),X_new,Y,lamb=0)"
   ]
  },
  {
   "cell_type": "code",
   "execution_count": 16,
   "id": "missing-stationery",
   "metadata": {},
   "outputs": [],
   "source": [
    "def gradientfunction(theta,X,Y,lamb):\n",
    "    m=Y.shape[0]\n",
    "    theta=theta.reshape((28,1))\n",
    "    gradient=(1/m)*(np.dot(X.T,sigmoid(np.dot(X,theta)) - Y)) + (lamb/m)*theta\n",
    "    gradient[0,0]=gradient[0,0]-(lamb/m)*theta[0,0]\n",
    "    gradient=np.ndarray.flatten(gradient)\n",
    "    return gradient"
   ]
  },
  {
   "cell_type": "code",
   "execution_count": 17,
   "id": "hawaiian-consortium",
   "metadata": {},
   "outputs": [
    {
     "data": {
      "text/plain": [
       "array([8.47457627e-03, 1.87880932e-02, 7.77711864e-05, 5.03446395e-02,\n",
       "       1.15013308e-02, 3.76648474e-02, 1.83559872e-02, 7.32393391e-03,\n",
       "       8.19244468e-03, 2.34764889e-02, 3.93486234e-02, 2.23923907e-03,\n",
       "       1.28600503e-02, 3.09593720e-03, 3.93028171e-02, 1.99707467e-02,\n",
       "       4.32983232e-03, 3.38643902e-03, 5.83822078e-03, 4.47629067e-03,\n",
       "       3.10079849e-02, 3.10312442e-02, 1.09740238e-03, 6.31570797e-03,\n",
       "       4.08503006e-04, 7.26504316e-03, 1.37646175e-03, 3.87936363e-02])"
      ]
     },
     "execution_count": 17,
     "metadata": {},
     "output_type": "execute_result"
    }
   ],
   "source": [
    "gradientfunction(np.array([0 for i in range(28)]),X_new,Y,lamb=0)"
   ]
  },
  {
   "cell_type": "markdown",
   "id": "billion-shoulder",
   "metadata": {},
   "source": [
    "# Learning parameters using fmin_ncg"
   ]
  },
  {
   "cell_type": "code",
   "execution_count": 18,
   "id": "acoustic-flash",
   "metadata": {},
   "outputs": [],
   "source": [
    "from scipy.optimize import fmin_ncg"
   ]
  },
  {
   "cell_type": "code",
   "execution_count": 19,
   "id": "capital-madness",
   "metadata": {},
   "outputs": [
    {
     "name": "stdout",
     "output_type": "stream",
     "text": [
      "Warning: Desired error not necessarily achieved due to precision loss.\n",
      "         Current function value: 0.398083\n",
      "         Iterations: 4\n",
      "         Function evaluations: 27\n",
      "         Gradient evaluations: 50\n",
      "         Hessian evaluations: 0\n"
     ]
    }
   ],
   "source": [
    "Theta=fmin_ncg(costfunction,x0=np.array([0 for i in range(28)]),fprime=gradientfunction,args=(X_new,Y,1))"
   ]
  },
  {
   "cell_type": "markdown",
   "id": "smoking-karma",
   "metadata": {},
   "source": [
    "# Predict function"
   ]
  },
  {
   "cell_type": "code",
   "execution_count": 20,
   "id": "polyphonic-isaac",
   "metadata": {},
   "outputs": [],
   "source": [
    "def predict(Theta,X):\n",
    "    p=sigmoid(np.dot(X,Theta))\n",
    "    p[p>=0.5]=1\n",
    "    p[p<0.5]=0\n",
    "    return p"
   ]
  },
  {
   "cell_type": "code",
   "execution_count": 21,
   "id": "chicken-myrtle",
   "metadata": {},
   "outputs": [],
   "source": [
    "p=predict(Theta,X_new)"
   ]
  },
  {
   "cell_type": "markdown",
   "id": "affiliated-chambers",
   "metadata": {},
   "source": [
    "# Training Accuracy"
   ]
  },
  {
   "cell_type": "code",
   "execution_count": 22,
   "id": "numerous-scientist",
   "metadata": {},
   "outputs": [],
   "source": [
    "def taccuracy(p,Y):\n",
    "    return ((100-p.sum())/(100-Y.sum()))*100 "
   ]
  },
  {
   "cell_type": "code",
   "execution_count": 23,
   "id": "regulated-hayes",
   "metadata": {},
   "outputs": [],
   "source": [
    "accuracy=taccuracy(p,Y)"
   ]
  },
  {
   "cell_type": "code",
   "execution_count": 24,
   "id": "special-effectiveness",
   "metadata": {},
   "outputs": [
    {
     "data": {
      "text/plain": [
       "76.19047619047619"
      ]
     },
     "execution_count": 24,
     "metadata": {},
     "output_type": "execute_result"
    }
   ],
   "source": [
    "accuracy"
   ]
  },
  {
   "cell_type": "markdown",
   "id": "straight-upgrade",
   "metadata": {},
   "source": [
    "# Plotting the decision boundary\n",
    "\n",
    "we will plot a contour plot for z=0"
   ]
  },
  {
   "cell_type": "code",
   "execution_count": 25,
   "id": "previous-variance",
   "metadata": {},
   "outputs": [],
   "source": [
    "u=np.linspace(-1,1.5,50)\n",
    "v=np.linspace(-1,1.5,50)\n",
    "\n",
    "z=np.zeros((len(u),len(v)))\n",
    "\n",
    "for i in range(len(u)):\n",
    "    for j in range(len(v)):\n",
    "        z[i,j]=np.dot(mapfeature(np.array([u[i]]),np.array([v[j]])),Theta)"
   ]
  },
  {
   "cell_type": "code",
   "execution_count": 26,
   "id": "needed-causing",
   "metadata": {},
   "outputs": [
    {
     "data": {
      "text/plain": [
       "(50, 50)"
      ]
     },
     "execution_count": 26,
     "metadata": {},
     "output_type": "execute_result"
    }
   ],
   "source": [
    "z.shape"
   ]
  },
  {
   "cell_type": "code",
   "execution_count": 27,
   "id": "approximate-yemen",
   "metadata": {},
   "outputs": [
    {
     "data": {
      "text/plain": [
       "Text(0.5, 1.0, 'Decision Boundary')"
      ]
     },
     "execution_count": 27,
     "metadata": {},
     "output_type": "execute_result"
    },
    {
     "data": {
      "image/png": "[encoded data removed]",
      "text/plain": [
       "<Figure size 648x648 with 1 Axes>"
      ]
     },
     "metadata": {
      "needs_background": "light"
     },
     "output_type": "display_data"
    }
   ],
   "source": [
    "x1, y1 = np.meshgrid(u, v)\n",
    "plt.figure(figsize=(9,9))\n",
    "plt.plot(x1_pos,x2_pos,\"b+\",label=\"Y=1\")\n",
    "plt.plot(x1_neg,x2_neg,\"ro\",label=\"Y=0\")\n",
    "plt.xlabel(\"Microchip Test 1\")\n",
    "plt.ylabel(\"Microchip Test 2\")\n",
    "plt.legend(loc=\"upper right\"); \n",
    "plt.contour(x1,y1,z,levels=0)\n",
    "plt.title(\"Decision Boundary\")"
   ]
  },
  {
   "cell_type": "markdown",
   "id": "automatic-minutes",
   "metadata": {},
   "source": [
    "# Thank You"
   ]
  }
 ],
 "metadata": {
  "kernelspec": {
   "display_name": "Python 3",
   "language": "python",
   "name": "python3"
  },
  "language_info": {
   "codemirror_mode": {
    "name": "ipython",
    "version": 3
   },
   "file_extension": ".py",
   "mimetype": "text/x-python",
   "name": "python",
   "nbconvert_exporter": "python",
   "pygments_lexer": "ipython3",
   "version": "3.8.5"
  }
 },
 "nbformat": 4,
 "nbformat_minor": 5
}
