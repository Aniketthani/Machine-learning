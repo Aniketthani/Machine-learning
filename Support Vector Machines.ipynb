{
 "cells": [
  {
   "cell_type": "code",
   "execution_count": 1,
   "id": "divided-somalia",
   "metadata": {},
   "outputs": [],
   "source": [
    "import numpy as np\n",
    "from scipy.io import loadmat\n",
    "from sklearn import svm\n",
    "import matplotlib.pyplot as plt"
   ]
  },
  {
   "cell_type": "markdown",
   "id": "interior-catering",
   "metadata": {},
   "source": [
    "# Support Vector Machines\n",
    "In the first half of this exercise, we will be using support vector machines\n",
    "(SVMs) with various example 2D datasets. Experimenting with these datasets\n",
    "will help us gain an intuition of how SVMs work and how to use a Gaussian\n",
    "kernel with SVMs. In the next half of the exercise, we will be using support\n",
    "vector machines to build a spam classifier."
   ]
  },
  {
   "cell_type": "markdown",
   "id": "essential-cholesterol",
   "metadata": {},
   "source": [
    "# Example Dataset 1\n",
    "We will begin by with a 2D example dataset which can be separated by a\n",
    "linear boundary\n",
    "the positions of the positive examples (indicated with +) and the\n",
    "negative examples (indicated with o) suggest a natural separation indicated\n",
    "by the gap. However, notice that there is an outlier positive example + on\n",
    "the far left at about (0.1, 4.1). As part of this exercise, you will also see how\n",
    "this outlier affects the SVM decision boundary."
   ]
  },
  {
   "cell_type": "code",
   "execution_count": 2,
   "id": "missing-auction",
   "metadata": {},
   "outputs": [],
   "source": [
    "data1=loadmat('data/ex6data1.mat')"
   ]
  },
  {
   "cell_type": "code",
   "execution_count": 3,
   "id": "thousand-decline",
   "metadata": {},
   "outputs": [
    {
     "data": {
      "text/plain": [
       "{'__header__': b'MATLAB 5.0 MAT-file, Platform: GLNXA64, Created on: Sun Nov 13 14:28:43 2011',\n",
       " '__version__': '1.0',\n",
       " '__globals__': [],\n",
       " 'X': array([[1.9643  , 4.5957  ],\n",
       "        [2.2753  , 3.8589  ],\n",
       "        [2.9781  , 4.5651  ],\n",
       "        [2.932   , 3.5519  ],\n",
       "        [3.5772  , 2.856   ],\n",
       "        [4.015   , 3.1937  ],\n",
       "        [3.3814  , 3.4291  ],\n",
       "        [3.9113  , 4.1761  ],\n",
       "        [2.7822  , 4.0431  ],\n",
       "        [2.5518  , 4.6162  ],\n",
       "        [3.3698  , 3.9101  ],\n",
       "        [3.1048  , 3.0709  ],\n",
       "        [1.9182  , 4.0534  ],\n",
       "        [2.2638  , 4.3706  ],\n",
       "        [2.6555  , 3.5008  ],\n",
       "        [3.1855  , 4.2888  ],\n",
       "        [3.6579  , 3.8692  ],\n",
       "        [3.9113  , 3.4291  ],\n",
       "        [3.6002  , 3.1221  ],\n",
       "        [3.0357  , 3.3165  ],\n",
       "        [1.5841  , 3.3575  ],\n",
       "        [2.0103  , 3.2039  ],\n",
       "        [1.9527  , 2.7843  ],\n",
       "        [2.2753  , 2.7127  ],\n",
       "        [2.3099  , 2.9584  ],\n",
       "        [2.8283  , 2.6309  ],\n",
       "        [3.0473  , 2.2931  ],\n",
       "        [2.4827  , 2.0373  ],\n",
       "        [2.5057  , 2.3853  ],\n",
       "        [1.8721  , 2.0577  ],\n",
       "        [2.0103  , 2.3546  ],\n",
       "        [1.2269  , 2.3239  ],\n",
       "        [1.8951  , 2.9174  ],\n",
       "        [1.561   , 3.0709  ],\n",
       "        [1.5495  , 2.6923  ],\n",
       "        [1.6878  , 2.4057  ],\n",
       "        [1.4919  , 2.0271  ],\n",
       "        [0.962   , 2.682   ],\n",
       "        [1.1693  , 2.9276  ],\n",
       "        [0.8122  , 2.9992  ],\n",
       "        [0.9735  , 3.3881  ],\n",
       "        [1.25    , 3.1937  ],\n",
       "        [1.3191  , 3.5109  ],\n",
       "        [2.2292  , 2.201   ],\n",
       "        [2.4482  , 2.6411  ],\n",
       "        [2.7938  , 1.9656  ],\n",
       "        [2.091   , 1.6177  ],\n",
       "        [2.5403  , 2.8867  ],\n",
       "        [0.9044  , 3.0198  ],\n",
       "        [0.76615 , 2.5899  ],\n",
       "        [0.086405, 4.1045  ]]),\n",
       " 'y': array([[1],\n",
       "        [1],\n",
       "        [1],\n",
       "        [1],\n",
       "        [1],\n",
       "        [1],\n",
       "        [1],\n",
       "        [1],\n",
       "        [1],\n",
       "        [1],\n",
       "        [1],\n",
       "        [1],\n",
       "        [1],\n",
       "        [1],\n",
       "        [1],\n",
       "        [1],\n",
       "        [1],\n",
       "        [1],\n",
       "        [1],\n",
       "        [1],\n",
       "        [0],\n",
       "        [0],\n",
       "        [0],\n",
       "        [0],\n",
       "        [0],\n",
       "        [0],\n",
       "        [0],\n",
       "        [0],\n",
       "        [0],\n",
       "        [0],\n",
       "        [0],\n",
       "        [0],\n",
       "        [0],\n",
       "        [0],\n",
       "        [0],\n",
       "        [0],\n",
       "        [0],\n",
       "        [0],\n",
       "        [0],\n",
       "        [0],\n",
       "        [0],\n",
       "        [0],\n",
       "        [0],\n",
       "        [0],\n",
       "        [0],\n",
       "        [0],\n",
       "        [0],\n",
       "        [0],\n",
       "        [0],\n",
       "        [0],\n",
       "        [1]], dtype=uint8)}"
      ]
     },
     "execution_count": 3,
     "metadata": {},
     "output_type": "execute_result"
    }
   ],
   "source": [
    "data1"
   ]
  },
  {
   "cell_type": "code",
   "execution_count": 4,
   "id": "featured-market",
   "metadata": {},
   "outputs": [],
   "source": [
    "X1=data1['X']"
   ]
  },
  {
   "cell_type": "code",
   "execution_count": 5,
   "id": "enclosed-scratch",
   "metadata": {},
   "outputs": [],
   "source": [
    "Y1=data1['y'].reshape((len(X1),))"
   ]
  },
  {
   "cell_type": "code",
   "execution_count": 6,
   "id": "pleasant-senegal",
   "metadata": {},
   "outputs": [
    {
     "data": {
      "text/plain": [
       "(51,)"
      ]
     },
     "execution_count": 6,
     "metadata": {},
     "output_type": "execute_result"
    }
   ],
   "source": [
    "Y1.shape"
   ]
  },
  {
   "cell_type": "code",
   "execution_count": 7,
   "id": "strange-tournament",
   "metadata": {},
   "outputs": [
    {
     "data": {
      "text/plain": [
       "[<matplotlib.lines.Line2D at 0x7fc4043d77c0>]"
      ]
     },
     "execution_count": 7,
     "metadata": {},
     "output_type": "execute_result"
    },
    {
     "data": {
      "image/png": "[encoded data removed]",
      "text/plain": [
       "<Figure size 432x288 with 1 Axes>"
      ]
     },
     "metadata": {
      "needs_background": "light"
     },
     "output_type": "display_data"
    }
   ],
   "source": [
    "plt.plot(X1[Y1==1,0],X1[Y1==1,1],'bx')\n",
    "plt.plot(X1[Y1==0,0],X1[Y1==0,1],'ro')"
   ]
  },
  {
   "cell_type": "markdown",
   "id": "mature-updating",
   "metadata": {},
   "source": [
    "# Fitting/Training This Dataset using SVM"
   ]
  },
  {
   "cell_type": "code",
   "execution_count": 8,
   "id": "colored-float",
   "metadata": {},
   "outputs": [],
   "source": [
    "clf=svm.SVC(kernel='linear')"
   ]
  },
  {
   "cell_type": "code",
   "execution_count": 9,
   "id": "angry-johnston",
   "metadata": {},
   "outputs": [
    {
     "data": {
      "text/plain": [
       "SVC(kernel='linear')"
      ]
     },
     "execution_count": 9,
     "metadata": {},
     "output_type": "execute_result"
    }
   ],
   "source": [
    "clf.fit(X1,Y1)"
   ]
  },
  {
   "cell_type": "code",
   "execution_count": 10,
   "id": "falling-prospect",
   "metadata": {},
   "outputs": [],
   "source": [
    "y1_pred=clf.predict(X1)"
   ]
  },
  {
   "cell_type": "code",
   "execution_count": 11,
   "id": "contrary-blake",
   "metadata": {},
   "outputs": [
    {
     "data": {
      "text/plain": [
       "(51,)"
      ]
     },
     "execution_count": 11,
     "metadata": {},
     "output_type": "execute_result"
    }
   ],
   "source": [
    "y1_pred.shape"
   ]
  },
  {
   "cell_type": "markdown",
   "id": "refined-africa",
   "metadata": {},
   "source": [
    "# Plotting Decision Boundary"
   ]
  },
  {
   "cell_type": "code",
   "execution_count": 12,
   "id": "quality-portuguese",
   "metadata": {},
   "outputs": [],
   "source": [
    "x1_d=np.linspace(-0.5,5,1500).reshape((1500,1))"
   ]
  },
  {
   "cell_type": "code",
   "execution_count": 13,
   "id": "southern-connectivity",
   "metadata": {},
   "outputs": [],
   "source": [
    "theta0=clf.intercept_"
   ]
  },
  {
   "cell_type": "code",
   "execution_count": 14,
   "id": "chronic-colleague",
   "metadata": {},
   "outputs": [],
   "source": [
    "theta=clf.coef_"
   ]
  },
  {
   "cell_type": "code",
   "execution_count": 15,
   "id": "drawn-capitol",
   "metadata": {},
   "outputs": [],
   "source": [
    "theta=theta.reshape((2,1))"
   ]
  },
  {
   "cell_type": "code",
   "execution_count": 16,
   "id": "third-distance",
   "metadata": {},
   "outputs": [],
   "source": [
    "x2_d=(-1/theta[1])*(theta0+theta[0]*x1_d)"
   ]
  },
  {
   "cell_type": "code",
   "execution_count": 17,
   "id": "inside-owner",
   "metadata": {},
   "outputs": [
    {
     "data": {
      "text/plain": [
       "(1500, 1)"
      ]
     },
     "execution_count": 17,
     "metadata": {},
     "output_type": "execute_result"
    }
   ],
   "source": [
    "x2_d.shape"
   ]
  },
  {
   "cell_type": "code",
   "execution_count": 18,
   "id": "brazilian-exclusive",
   "metadata": {},
   "outputs": [
    {
     "data": {
      "text/plain": [
       "[<matplotlib.lines.Line2D at 0x7fc4042ff370>]"
      ]
     },
     "execution_count": 18,
     "metadata": {},
     "output_type": "execute_result"
    },
    {
     "data": {
      "image/png": "[encoded data removed]",
      "text/plain": [
       "<Figure size 432x288 with 1 Axes>"
      ]
     },
     "metadata": {
      "needs_background": "light"
     },
     "output_type": "display_data"
    }
   ],
   "source": [
    "plt.plot(X1[Y1==1,0],X1[Y1==1,1],'bx')\n",
    "plt.plot(X1[Y1==0,0],X1[Y1==0,1],'ro')\n",
    "plt.plot(x1_d,x2_d)"
   ]
  },
  {
   "cell_type": "markdown",
   "id": "freelance-supplement",
   "metadata": {},
   "source": [
    "# SVM with Gaussian Kernels"
   ]
  },
  {
   "cell_type": "markdown",
   "id": "continental-money",
   "metadata": {},
   "source": [
    "In this part of the exercise, you will be using SVMs to do non-linear clas-\n",
    "sification. In particular, you will be using SVMs with Gaussian kernels on\n",
    "datasets that are not linearly separable."
   ]
  },
  {
   "cell_type": "code",
   "execution_count": 19,
   "id": "finite-momentum",
   "metadata": {},
   "outputs": [],
   "source": [
    "data2=loadmat('data/ex6data2.mat')"
   ]
  },
  {
   "cell_type": "code",
   "execution_count": 20,
   "id": "burning-validity",
   "metadata": {},
   "outputs": [],
   "source": [
    "X2=data2['X']"
   ]
  },
  {
   "cell_type": "code",
   "execution_count": 21,
   "id": "soviet-reverse",
   "metadata": {},
   "outputs": [
    {
     "data": {
      "text/plain": [
       "(863, 2)"
      ]
     },
     "execution_count": 21,
     "metadata": {},
     "output_type": "execute_result"
    }
   ],
   "source": [
    "X2.shape"
   ]
  },
  {
   "cell_type": "code",
   "execution_count": 22,
   "id": "visible-dubai",
   "metadata": {},
   "outputs": [],
   "source": [
    "Y2=data2['y']"
   ]
  },
  {
   "cell_type": "code",
   "execution_count": 23,
   "id": "devoted-vehicle",
   "metadata": {},
   "outputs": [],
   "source": [
    "Y2=Y2.reshape((len(Y2)))"
   ]
  },
  {
   "cell_type": "markdown",
   "id": "significant-surname",
   "metadata": {},
   "source": [
    "# Visualize The Dataset"
   ]
  },
  {
   "cell_type": "code",
   "execution_count": 24,
   "id": "fallen-phenomenon",
   "metadata": {},
   "outputs": [
    {
     "data": {
      "image/png": "[encoded data removed]",
      "text/plain": [
       "<Figure size 648x432 with 1 Axes>"
      ]
     },
     "metadata": {
      "needs_background": "light"
     },
     "output_type": "display_data"
    }
   ],
   "source": [
    "plt.figure(figsize=(9,6))\n",
    "plt.plot(X2[Y2==1,0],X2[Y2==1,1],'bx')\n",
    "plt.plot(X2[Y2==0,0],X2[Y2==0,1],'ro');"
   ]
  },
  {
   "cell_type": "code",
   "execution_count": 25,
   "id": "brilliant-magnitude",
   "metadata": {},
   "outputs": [],
   "source": [
    "clf=svm.SVC(kernel='rbf',C=10)"
   ]
  },
  {
   "cell_type": "code",
   "execution_count": 26,
   "id": "applied-hands",
   "metadata": {},
   "outputs": [
    {
     "data": {
      "text/plain": [
       "SVC(C=10)"
      ]
     },
     "execution_count": 26,
     "metadata": {},
     "output_type": "execute_result"
    }
   ],
   "source": [
    "clf.fit(X2,Y2)"
   ]
  },
  {
   "cell_type": "code",
   "execution_count": 32,
   "id": "martial-trade",
   "metadata": {},
   "outputs": [
    {
     "data": {
      "text/plain": [
       "0.9409038238702202"
      ]
     },
     "execution_count": 32,
     "metadata": {},
     "output_type": "execute_result"
    }
   ],
   "source": [
    "clf.score(X2,Y2)"
   ]
  },
  {
   "cell_type": "markdown",
   "id": "superb-runner",
   "metadata": {},
   "source": [
    "# Thank You"
   ]
  }
 ],
 "metadata": {
  "kernelspec": {
   "display_name": "Python 3",
   "language": "python",
   "name": "python3"
  },
  "language_info": {
   "codemirror_mode": {
    "name": "ipython",
    "version": 3
   },
   "file_extension": ".py",
   "mimetype": "text/x-python",
   "name": "python",
   "nbconvert_exporter": "python",
   "pygments_lexer": "ipython3",
   "version": "3.8.5"
  }
 },
 "nbformat": 4,
 "nbformat_minor": 5
}
